{
 "cells": [
  {
   "cell_type": "markdown",
   "metadata": {},
   "source": [
    "# Model Comparison\n",
    "----"
   ]
  },
  {
   "cell_type": "code",
   "execution_count": 152,
   "metadata": {},
   "outputs": [],
   "source": [
    "import statsmodels.formula.api as smf\n",
    "import statsmodels.api as sm\n",
    "from sklearn.metrics import r2_score\n",
    "import numpy as np\n",
    "import pandas as pd\n",
    "import matplotlib.pyplot as plt\n",
    "import seaborn as sns\n",
    "from sklearn import neighbors\n",
    "from sklearn.model_selection import cross_val_score\n",
    "%matplotlib inline"
   ]
  },
  {
   "cell_type": "code",
   "execution_count": 153,
   "metadata": {},
   "outputs": [
    {
     "name": "stdout",
     "output_type": "stream",
     "text": [
      "Shape: (376, 14)\n"
     ]
    }
   ],
   "source": [
    "df_2014 = pd.read_csv('./data/Table_8_Offenses_Known_to_Law_Enforcement_by_New_York_by_City_2014.csv', delimiter= ',')\n",
    "print(f'Shape: {df_2014.shape}')"
   ]
  },
  {
   "cell_type": "code",
   "execution_count": 154,
   "metadata": {},
   "outputs": [
    {
     "data": {
      "text/html": [
       "<div>\n",
       "<style>\n",
       "    .dataframe thead tr:only-child th {\n",
       "        text-align: right;\n",
       "    }\n",
       "\n",
       "    .dataframe thead th {\n",
       "        text-align: left;\n",
       "    }\n",
       "\n",
       "    .dataframe tbody tr th {\n",
       "        vertical-align: top;\n",
       "    }\n",
       "</style>\n",
       "<table border=\"1\" class=\"dataframe\">\n",
       "  <thead>\n",
       "    <tr style=\"text-align: right;\">\n",
       "      <th></th>\n",
       "      <th>City</th>\n",
       "      <th>Population</th>\n",
       "      <th>Violent\r\n",
       "crime</th>\n",
       "      <th>Murder and\r\n",
       "nonnegligent\r\n",
       "manslaughter</th>\n",
       "      <th>Rape\r\n",
       "(revised\r\n",
       "definition)1</th>\n",
       "      <th>Rape\r\n",
       "(legacy\r\n",
       "definition)2</th>\n",
       "      <th>Robbery</th>\n",
       "      <th>Aggravated\r\n",
       "assault</th>\n",
       "      <th>Property\r\n",
       "crime</th>\n",
       "      <th>Burglary</th>\n",
       "      <th>Larceny-\r\n",
       "theft</th>\n",
       "      <th>Motor\r\n",
       "vehicle\r\n",
       "theft</th>\n",
       "      <th>Arson3</th>\n",
       "      <th>Unnamed: 13</th>\n",
       "    </tr>\n",
       "  </thead>\n",
       "  <tbody>\n",
       "    <tr>\n",
       "      <th>0</th>\n",
       "      <td>Adams Village</td>\n",
       "      <td>1,851</td>\n",
       "      <td>0</td>\n",
       "      <td>0.0</td>\n",
       "      <td>NaN</td>\n",
       "      <td>0.0</td>\n",
       "      <td>0</td>\n",
       "      <td>0</td>\n",
       "      <td>11</td>\n",
       "      <td>1</td>\n",
       "      <td>10</td>\n",
       "      <td>0</td>\n",
       "      <td>0.0</td>\n",
       "      <td>NaN</td>\n",
       "    </tr>\n",
       "    <tr>\n",
       "      <th>1</th>\n",
       "      <td>Addison Town and Village</td>\n",
       "      <td>2,568</td>\n",
       "      <td>2</td>\n",
       "      <td>0.0</td>\n",
       "      <td>NaN</td>\n",
       "      <td>0.0</td>\n",
       "      <td>1</td>\n",
       "      <td>1</td>\n",
       "      <td>49</td>\n",
       "      <td>1</td>\n",
       "      <td>47</td>\n",
       "      <td>1</td>\n",
       "      <td>0.0</td>\n",
       "      <td>NaN</td>\n",
       "    </tr>\n",
       "    <tr>\n",
       "      <th>2</th>\n",
       "      <td>Afton Village4</td>\n",
       "      <td>820</td>\n",
       "      <td>0</td>\n",
       "      <td>0.0</td>\n",
       "      <td>0</td>\n",
       "      <td>NaN</td>\n",
       "      <td>0</td>\n",
       "      <td>0</td>\n",
       "      <td>1</td>\n",
       "      <td>0</td>\n",
       "      <td>1</td>\n",
       "      <td>0</td>\n",
       "      <td>0.0</td>\n",
       "      <td>NaN</td>\n",
       "    </tr>\n",
       "    <tr>\n",
       "      <th>3</th>\n",
       "      <td>Akron Village</td>\n",
       "      <td>2,842</td>\n",
       "      <td>1</td>\n",
       "      <td>0.0</td>\n",
       "      <td>NaN</td>\n",
       "      <td>0.0</td>\n",
       "      <td>0</td>\n",
       "      <td>1</td>\n",
       "      <td>17</td>\n",
       "      <td>0</td>\n",
       "      <td>17</td>\n",
       "      <td>0</td>\n",
       "      <td>0.0</td>\n",
       "      <td>NaN</td>\n",
       "    </tr>\n",
       "    <tr>\n",
       "      <th>4</th>\n",
       "      <td>Albany4</td>\n",
       "      <td>98,595</td>\n",
       "      <td>802</td>\n",
       "      <td>8.0</td>\n",
       "      <td>54</td>\n",
       "      <td>NaN</td>\n",
       "      <td>237</td>\n",
       "      <td>503</td>\n",
       "      <td>3,888</td>\n",
       "      <td>683</td>\n",
       "      <td>3,083</td>\n",
       "      <td>122</td>\n",
       "      <td>12.0</td>\n",
       "      <td>NaN</td>\n",
       "    </tr>\n",
       "  </tbody>\n",
       "</table>\n",
       "</div>"
      ],
      "text/plain": [
       "                       City Population Violent\\r\\ncrime  \\\n",
       "0             Adams Village      1,851                0   \n",
       "1  Addison Town and Village      2,568                2   \n",
       "2            Afton Village4        820                0   \n",
       "3             Akron Village      2,842                1   \n",
       "4                   Albany4     98,595              802   \n",
       "\n",
       "   Murder and\\r\\nnonnegligent\\r\\nmanslaughter  \\\n",
       "0                                         0.0   \n",
       "1                                         0.0   \n",
       "2                                         0.0   \n",
       "3                                         0.0   \n",
       "4                                         8.0   \n",
       "\n",
       "  Rape\\r\\n(revised\\r\\ndefinition)1  Rape\\r\\n(legacy\\r\\ndefinition)2 Robbery  \\\n",
       "0                              NaN                              0.0       0   \n",
       "1                              NaN                              0.0       1   \n",
       "2                                0                              NaN       0   \n",
       "3                              NaN                              0.0       0   \n",
       "4                               54                              NaN     237   \n",
       "\n",
       "  Aggravated\\r\\nassault Property\\r\\ncrime Burglary Larceny-\\r\\ntheft  \\\n",
       "0                     0                11        1                10   \n",
       "1                     1                49        1                47   \n",
       "2                     0                 1        0                 1   \n",
       "3                     1                17        0                17   \n",
       "4                   503             3,888      683             3,083   \n",
       "\n",
       "  Motor\\r\\nvehicle\\r\\ntheft  Arson3  Unnamed: 13  \n",
       "0                         0     0.0          NaN  \n",
       "1                         1     0.0          NaN  \n",
       "2                         0     0.0          NaN  \n",
       "3                         0     0.0          NaN  \n",
       "4                       122    12.0          NaN  "
      ]
     },
     "execution_count": 154,
     "metadata": {},
     "output_type": "execute_result"
    }
   ],
   "source": [
    "df_2014.head()"
   ]
  },
  {
   "cell_type": "code",
   "execution_count": 155,
   "metadata": {
    "collapsed": true
   },
   "outputs": [],
   "source": [
    "# Clean and convert population coulmn\n",
    "df_2014['Population'] = df_2014['Population'].str.replace(',','')\n",
    "df_2014['Population'] = df_2014['Population'].astype(float)"
   ]
  },
  {
   "cell_type": "code",
   "execution_count": 156,
   "metadata": {
    "collapsed": true
   },
   "outputs": [],
   "source": [
    "# Clean and Convert Robbery coulmn\n",
    "df_2014['Robbery'] = df_2014['Robbery'].str.replace(',','')\n",
    "df_2014['Robbery'] = df_2014['Robbery'].astype(float)"
   ]
  },
  {
   "cell_type": "code",
   "execution_count": 157,
   "metadata": {
    "collapsed": true
   },
   "outputs": [],
   "source": [
    "# Clean and Convert Robbery coulmn\n",
    "df_2014['Burglary'] = df_2014['Burglary'].str.replace(',','')\n",
    "df_2014['Burglary'] = df_2014['Burglary'].astype(float)"
   ]
  },
  {
   "cell_type": "code",
   "execution_count": 158,
   "metadata": {
    "collapsed": true
   },
   "outputs": [],
   "source": [
    "# Clean and Convert Robbery coulmn\n",
    "df_2014['Violent\\r\\ncrime'] = df_2014['Violent\\r\\ncrime'].str.replace(',','')\n",
    "df_2014['Violent\\r\\ncrime'] = df_2014['Violent\\r\\ncrime'].astype(float)"
   ]
  },
  {
   "cell_type": "code",
   "execution_count": 159,
   "metadata": {
    "collapsed": true
   },
   "outputs": [],
   "source": [
    "df_2014 = df_2014.loc[lambda df_2014: df_2014['Property\\r\\ncrime'].notnull(), :]"
   ]
  },
  {
   "cell_type": "code",
   "execution_count": 160,
   "metadata": {
    "collapsed": true
   },
   "outputs": [],
   "source": [
    "df_2014['Property\\r\\ncrime'] = df_2014['Property\\r\\ncrime'].str.replace(',','')\n",
    "df_2014['Property\\r\\ncrime'] = df_2014['Property\\r\\ncrime'].astype(float)"
   ]
  },
  {
   "cell_type": "code",
   "execution_count": 161,
   "metadata": {
    "collapsed": true
   },
   "outputs": [],
   "source": [
    "df_2014['PropertyAndCrimeLog'] = np.log1p(df_2014['Property\\r\\ncrime'])\n",
    "df_2014['PopulationLog'] = np.log1p(df_2014['Population'])\n",
    "df_2014['RobberyLog'] = np.log1p(df_2014['Robbery'])\n",
    "df_2014['BurglaryLog'] = np.log1p(df_2014['Burglary'])\n",
    "df_2014['ViolentCrimeLog'] = np.log1p(df_2014['Violent\\r\\ncrime'])"
   ]
  },
  {
   "cell_type": "code",
   "execution_count": 94,
   "metadata": {},
   "outputs": [],
   "source": [
    "# Selected Features\n",
    "# -----------------\n",
    "# Robbery\n",
    "# Burglary\n",
    "# Population"
   ]
  },
  {
   "cell_type": "markdown",
   "metadata": {},
   "source": [
    "# Linear Regression Model"
   ]
  },
  {
   "cell_type": "code",
   "execution_count": 164,
   "metadata": {},
   "outputs": [],
   "source": [
    "linear_formula = 'ViolentCrimeLog ~ PopulationLog+RobberyLog+BurglaryLog'\n",
    "\n",
    "# Fit the model to our data using the formula.\n",
    "lm_2014 = smf.ols(formula=linear_formula, data=df_2014).fit()"
   ]
  },
  {
   "cell_type": "code",
   "execution_count": 165,
   "metadata": {},
   "outputs": [
    {
     "data": {
      "text/html": [
       "<table class=\"simpletable\">\n",
       "<caption>OLS Regression Results</caption>\n",
       "<tr>\n",
       "  <th>Dep. Variable:</th>     <td>ViolentCrimeLog</td> <th>  R-squared:         </th> <td>   0.900</td> \n",
       "</tr>\n",
       "<tr>\n",
       "  <th>Model:</th>                   <td>OLS</td>       <th>  Adj. R-squared:    </th> <td>   0.899</td> \n",
       "</tr>\n",
       "<tr>\n",
       "  <th>Method:</th>             <td>Least Squares</td>  <th>  F-statistic:       </th> <td>   1096.</td> \n",
       "</tr>\n",
       "<tr>\n",
       "  <th>Date:</th>             <td>Tue, 07 Aug 2018</td> <th>  Prob (F-statistic):</th> <td>8.24e-182</td>\n",
       "</tr>\n",
       "<tr>\n",
       "  <th>Time:</th>                 <td>18:54:48</td>     <th>  Log-Likelihood:    </th> <td> -293.55</td> \n",
       "</tr>\n",
       "<tr>\n",
       "  <th>No. Observations:</th>      <td>   368</td>      <th>  AIC:               </th> <td>   595.1</td> \n",
       "</tr>\n",
       "<tr>\n",
       "  <th>Df Residuals:</th>          <td>   364</td>      <th>  BIC:               </th> <td>   610.7</td> \n",
       "</tr>\n",
       "<tr>\n",
       "  <th>Df Model:</th>              <td>     3</td>      <th>                     </th>     <td> </td>    \n",
       "</tr>\n",
       "<tr>\n",
       "  <th>Covariance Type:</th>      <td>nonrobust</td>    <th>                     </th>     <td> </td>    \n",
       "</tr>\n",
       "</table>\n",
       "<table class=\"simpletable\">\n",
       "<tr>\n",
       "        <td></td>           <th>coef</th>     <th>std err</th>      <th>t</th>      <th>P>|t|</th>  <th>[0.025</th>    <th>0.975]</th>  \n",
       "</tr>\n",
       "<tr>\n",
       "  <th>Intercept</th>     <td>   -1.1103</td> <td>    0.321</td> <td>   -3.459</td> <td> 0.001</td> <td>   -1.742</td> <td>   -0.479</td>\n",
       "</tr>\n",
       "<tr>\n",
       "  <th>PopulationLog</th> <td>    0.1580</td> <td>    0.043</td> <td>    3.700</td> <td> 0.000</td> <td>    0.074</td> <td>    0.242</td>\n",
       "</tr>\n",
       "<tr>\n",
       "  <th>RobberyLog</th>    <td>    0.5740</td> <td>    0.038</td> <td>   15.269</td> <td> 0.000</td> <td>    0.500</td> <td>    0.648</td>\n",
       "</tr>\n",
       "<tr>\n",
       "  <th>BurglaryLog</th>   <td>    0.4125</td> <td>    0.036</td> <td>   11.377</td> <td> 0.000</td> <td>    0.341</td> <td>    0.484</td>\n",
       "</tr>\n",
       "</table>\n",
       "<table class=\"simpletable\">\n",
       "<tr>\n",
       "  <th>Omnibus:</th>       <td> 4.654</td> <th>  Durbin-Watson:     </th> <td>   2.064</td>\n",
       "</tr>\n",
       "<tr>\n",
       "  <th>Prob(Omnibus):</th> <td> 0.098</td> <th>  Jarque-Bera (JB):  </th> <td>   5.322</td>\n",
       "</tr>\n",
       "<tr>\n",
       "  <th>Skew:</th>          <td> 0.128</td> <th>  Prob(JB):          </th> <td>  0.0699</td>\n",
       "</tr>\n",
       "<tr>\n",
       "  <th>Kurtosis:</th>      <td> 3.530</td> <th>  Cond. No.          </th> <td>    110.</td>\n",
       "</tr>\n",
       "</table>"
      ],
      "text/plain": [
       "<class 'statsmodels.iolib.summary.Summary'>\n",
       "\"\"\"\n",
       "                            OLS Regression Results                            \n",
       "==============================================================================\n",
       "Dep. Variable:        ViolentCrimeLog   R-squared:                       0.900\n",
       "Model:                            OLS   Adj. R-squared:                  0.899\n",
       "Method:                 Least Squares   F-statistic:                     1096.\n",
       "Date:                Tue, 07 Aug 2018   Prob (F-statistic):          8.24e-182\n",
       "Time:                        18:54:48   Log-Likelihood:                -293.55\n",
       "No. Observations:                 368   AIC:                             595.1\n",
       "Df Residuals:                     364   BIC:                             610.7\n",
       "Df Model:                           3                                         \n",
       "Covariance Type:            nonrobust                                         \n",
       "=================================================================================\n",
       "                    coef    std err          t      P>|t|      [0.025      0.975]\n",
       "---------------------------------------------------------------------------------\n",
       "Intercept        -1.1103      0.321     -3.459      0.001      -1.742      -0.479\n",
       "PopulationLog     0.1580      0.043      3.700      0.000       0.074       0.242\n",
       "RobberyLog        0.5740      0.038     15.269      0.000       0.500       0.648\n",
       "BurglaryLog       0.4125      0.036     11.377      0.000       0.341       0.484\n",
       "==============================================================================\n",
       "Omnibus:                        4.654   Durbin-Watson:                   2.064\n",
       "Prob(Omnibus):                  0.098   Jarque-Bera (JB):                5.322\n",
       "Skew:                           0.128   Prob(JB):                       0.0699\n",
       "Kurtosis:                       3.530   Cond. No.                         110.\n",
       "==============================================================================\n",
       "\n",
       "Warnings:\n",
       "[1] Standard Errors assume that the covariance matrix of the errors is correctly specified.\n",
       "\"\"\""
      ]
     },
     "execution_count": 165,
     "metadata": {},
     "output_type": "execute_result"
    }
   ],
   "source": [
    "lm_2014.summary()"
   ]
  },
  {
   "cell_type": "code",
   "execution_count": 166,
   "metadata": {},
   "outputs": [
    {
     "data": {
      "image/png": "[encoded data removed]",
      "text/plain": [
       "<matplotlib.figure.Figure at 0x12004ebe0>"
      ]
     },
     "metadata": {},
     "output_type": "display_data"
    }
   ],
   "source": [
    "predicted = lm_2014.predict(X).ravel()\n",
    "actual = df_2014['ViolentCrimeLog']\n",
    "\n",
    "# Calculate the error, also called the residual.\n",
    "residual = actual - predicted\n",
    "\n",
    "plt.hist(residual)\n",
    "plt.title('Residual counts')\n",
    "plt.xlabel('Residual')\n",
    "plt.ylabel('Count')\n",
    "plt.show()"
   ]
  },
  {
   "cell_type": "code",
   "execution_count": 167,
   "metadata": {},
   "outputs": [
    {
     "data": {
      "image/png": "[encoded data removed]",
      "text/plain": [
       "<matplotlib.figure.Figure at 0x12022d048>"
      ]
     },
     "metadata": {},
     "output_type": "display_data"
    }
   ],
   "source": [
    "plt.scatter(predicted, residual)\n",
    "plt.xlabel('Predicted')\n",
    "plt.ylabel('Residual')\n",
    "plt.axhline(y=0)\n",
    "plt.title('Residual vs. Predicted')\n",
    "plt.show()"
   ]
  },
  {
   "cell_type": "code",
   "execution_count": 168,
   "metadata": {},
   "outputs": [
    {
     "data": {
      "text/html": [
       "<div>\n",
       "<style>\n",
       "    .dataframe thead tr:only-child th {\n",
       "        text-align: right;\n",
       "    }\n",
       "\n",
       "    .dataframe thead th {\n",
       "        text-align: left;\n",
       "    }\n",
       "\n",
       "    .dataframe tbody tr th {\n",
       "        vertical-align: top;\n",
       "    }\n",
       "</style>\n",
       "<table border=\"1\" class=\"dataframe\">\n",
       "  <thead>\n",
       "    <tr style=\"text-align: right;\">\n",
       "      <th></th>\n",
       "      <th>PopulationLog</th>\n",
       "      <th>RobberyLog</th>\n",
       "      <th>BurglaryLog</th>\n",
       "    </tr>\n",
       "  </thead>\n",
       "  <tbody>\n",
       "    <tr>\n",
       "      <th>PopulationLog</th>\n",
       "      <td>1.000000</td>\n",
       "      <td>0.807042</td>\n",
       "      <td>0.834030</td>\n",
       "    </tr>\n",
       "    <tr>\n",
       "      <th>RobberyLog</th>\n",
       "      <td>0.807042</td>\n",
       "      <td>1.000000</td>\n",
       "      <td>0.832504</td>\n",
       "    </tr>\n",
       "    <tr>\n",
       "      <th>BurglaryLog</th>\n",
       "      <td>0.834030</td>\n",
       "      <td>0.832504</td>\n",
       "      <td>1.000000</td>\n",
       "    </tr>\n",
       "  </tbody>\n",
       "</table>\n",
       "</div>"
      ],
      "text/plain": [
       "               PopulationLog  RobberyLog  BurglaryLog\n",
       "PopulationLog       1.000000    0.807042     0.834030\n",
       "RobberyLog          0.807042    1.000000     0.832504\n",
       "BurglaryLog         0.834030    0.832504     1.000000"
      ]
     },
     "metadata": {},
     "output_type": "display_data"
    }
   ],
   "source": [
    "correlation_matrix = X.corr()\n",
    "display(correlation_matrix)"
   ]
  },
  {
   "cell_type": "markdown",
   "metadata": {},
   "source": [
    "# Validation Set"
   ]
  },
  {
   "cell_type": "code",
   "execution_count": 169,
   "metadata": {},
   "outputs": [
    {
     "name": "stdout",
     "output_type": "stream",
     "text": [
      "Shape: (351, 14)\n"
     ]
    }
   ],
   "source": [
    "df_2013 = pd.read_csv('./data/table_8_offenses_known_to_law_enforcement_new_york_by_city_2013.csv', delimiter= ',')\n",
    "print(f'Shape: {df_2013.shape}')"
   ]
  },
  {
   "cell_type": "markdown",
   "metadata": {},
   "source": [
    "### Cleaning and manipulating validation set"
   ]
  },
  {
   "cell_type": "code",
   "execution_count": 170,
   "metadata": {
    "collapsed": true
   },
   "outputs": [],
   "source": [
    "# Clean and convert population coulmn\n",
    "df_2013['Population'] = df_2013['Population'].str.replace(',','')\n",
    "df_2013['Population'] = df_2013['Population'].astype(float)\n",
    "\n",
    "# Clean and Convert Robbery coulmn\n",
    "df_2013['Robbery'] = df_2013['Robbery'].str.replace(',','')\n",
    "df_2013['Robbery'] = df_2013['Robbery'].astype(float)\n",
    "\n",
    "# Clean and Convert Robbery coulmn\n",
    "df_2013['Burglary'] = df_2013['Burglary'].str.replace(',','')\n",
    "df_2013['Burglary'] = df_2013['Burglary'].astype(float)\n",
    "\n",
    "# Clean and Convert Robbery coulmn\n",
    "df_2013['Violent\\r\\ncrime'] = df_2013['Violent\\r\\ncrime'].str.replace(',','')\n",
    "df_2013['Violent\\r\\ncrime'] = df_2013['Violent\\r\\ncrime'].astype(float)\n",
    "\n",
    "df_2013 = df_2013.loc[lambda df_2013: df_2013['Property\\r\\ncrime'].notnull(), :]\n",
    "\n",
    "df_2013['Property\\r\\ncrime'] = df_2013['Property\\r\\ncrime'].str.replace(',','')\n",
    "df_2013['Property\\r\\ncrime'] = df_2013['Property\\r\\ncrime'].astype(float)\n",
    "\n",
    "df_2013['PropertyAndCrimeLog'] = np.log1p(df_2013['Property\\r\\ncrime'])\n",
    "df_2013['PopulationLog'] = np.log1p(df_2013['Population'])\n",
    "df_2013['RobberyLog'] = np.log1p(df_2013['Robbery'])\n",
    "df_2013['BurglaryLog'] = np.log1p(df_2013['Burglary'])\n",
    "df_2013['ViolentCrimeLog'] = np.log1p(df_2013['Violent\\r\\ncrime'])"
   ]
  },
  {
   "cell_type": "code",
   "execution_count": 171,
   "metadata": {
    "collapsed": true
   },
   "outputs": [],
   "source": [
    "Y_2013 = df_2013['ViolentCrimeLog'].values.reshape(-1, 1)\n",
    "X_2013 = df_2013[['PopulationLog', 'RobberyLog', 'BurglaryLog']]\n",
    "\n",
    "predicted = lm_2014.predict(X_2013).ravel()"
   ]
  },
  {
   "cell_type": "code",
   "execution_count": 172,
   "metadata": {},
   "outputs": [
    {
     "data": {
      "text/plain": [
       "0.8922509601397677"
      ]
     },
     "execution_count": 172,
     "metadata": {},
     "output_type": "execute_result"
    }
   ],
   "source": [
    "r2_score(df_2013['ViolentCrimeLog'], predicted)"
   ]
  },
  {
   "cell_type": "markdown",
   "metadata": {},
   "source": [
    "# KNN"
   ]
  },
  {
   "cell_type": "code",
   "execution_count": 197,
   "metadata": {},
   "outputs": [],
   "source": [
    "# PopulationLog\n",
    "# RobberyLog\n",
    "# BurglaryLog\n",
    "# ViolentCrimeLog\n",
    "\n",
    "# Build our model.\n",
    "knn = neighbors.KNeighborsRegressor(n_neighbors=5)\n",
    "# X = pd.DataFrame(music.loudness)\n",
    "X = df_2014[['PopulationLog', 'RobberyLog', 'BurglaryLog']]\n",
    "Y = df_2014['ViolentCrimeLog']\n",
    "knn.fit(X, Y)\n",
    "\n",
    "# Set up our prediction line.\n",
    "T = df_2013[['PopulationLog', 'RobberyLog', 'BurglaryLog']]\n",
    "\n",
    "# Trailing underscores are a common convention for a prediction.\n",
    "Y_ = knn.predict(T)"
   ]
  },
  {
   "cell_type": "code",
   "execution_count": 198,
   "metadata": {},
   "outputs": [
    {
     "name": "stdout",
     "output_type": "stream",
     "text": [
      "Accuracy: 0.88 (+/- 0.02)\n"
     ]
    }
   ],
   "source": [
    "score = cross_val_score(knn, X, Y, cv=5)\n",
    "print(\"Accuracy: %0.2f (+/- %0.2f)\" % (score.mean(), score.std() * 2))"
   ]
  },
  {
   "cell_type": "code",
   "execution_count": 199,
   "metadata": {},
   "outputs": [
    {
     "data": {
      "text/plain": [
       "0.8676278890022295"
      ]
     },
     "execution_count": 199,
     "metadata": {},
     "output_type": "execute_result"
    }
   ],
   "source": [
    "r2_score(df_2013['ViolentCrimeLog'], Y_)"
   ]
  },
  {
   "cell_type": "markdown",
   "metadata": {},
   "source": [
    "## Summary"
   ]
  },
  {
   "cell_type": "markdown",
   "metadata": {},
   "source": [
    "Overall, the results of the two models were very similar.\n",
    "\n",
    "The linear regression model had a R-squared value of 90% for the training data and the KNN had a R-squared value of 88% (+/- 0.02).  Both are very similar.\n",
    "\n",
    "Where the models differed was in their R-squared values for the validation sets.  The linear regression model achieved a value of 89%, while the KNN achieved a value of 86%.\n",
    "\n",
    "Overall, the two models achieved very similar results.  Linear regression is easy to use, understand and allows for quick inferences but requires the data to meet certain criteria.  KNN, doesn’t have quite as many restricts on the input data, it easy to use but didn’t seem to be as accurate on the validation set."
   ]
  },
  {
   "cell_type": "code",
   "execution_count": null,
   "metadata": {
    "collapsed": true
   },
   "outputs": [],
   "source": []
  }
 ],
 "metadata": {
  "kernelspec": {
   "display_name": "Python 3",
   "language": "python",
   "name": "python3"
  },
  "language_info": {
   "codemirror_mode": {
    "name": "ipython",
    "version": 3
   },
   "file_extension": ".py",
   "mimetype": "text/x-python",
   "name": "python",
   "nbconvert_exporter": "python",
   "pygments_lexer": "ipython3",
   "version": "3.6.3"
  }
 },
 "nbformat": 4,
 "nbformat_minor": 2
}

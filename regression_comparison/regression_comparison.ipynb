{
 "cells": [
  {
   "cell_type": "markdown",
   "metadata": {},
   "source": [
    "# Regression Model Comparison\n",
    "----"
   ]
  },
  {
   "cell_type": "code",
   "execution_count": 75,
   "metadata": {},
   "outputs": [],
   "source": [
    "import numpy as np\n",
    "import pandas as pd\n",
    "import matplotlib.pyplot as plt\n",
    "import seaborn as sns\n",
    "from sklearn.preprocessing import OneHotEncoder\n",
    "from IPython.display import display\n",
    "from sklearn import linear_model\n",
    "from sklearn.model_selection import train_test_split\n",
    "import statsmodels.api as sm\n",
    "from sklearn.linear_model import LogisticRegression\n",
    "from scipy import stats\n",
    "stats.chisqprob = lambda chisq, df: stats.chi2.sf(chisq, df)\n",
    "%matplotlib inline"
   ]
  },
  {
   "cell_type": "code",
   "execution_count": 3,
   "metadata": {
    "scrolled": true
   },
   "outputs": [
    {
     "name": "stdout",
     "output_type": "stream",
     "text": [
      "Shape: (351, 14)\n"
     ]
    },
    {
     "data": {
      "text/html": [
       "<div>\n",
       "<style>\n",
       "    .dataframe thead tr:only-child th {\n",
       "        text-align: right;\n",
       "    }\n",
       "\n",
       "    .dataframe thead th {\n",
       "        text-align: left;\n",
       "    }\n",
       "\n",
       "    .dataframe tbody tr th {\n",
       "        vertical-align: top;\n",
       "    }\n",
       "</style>\n",
       "<table border=\"1\" class=\"dataframe\">\n",
       "  <thead>\n",
       "    <tr style=\"text-align: right;\">\n",
       "      <th></th>\n",
       "      <th>City</th>\n",
       "      <th>Population</th>\n",
       "      <th>Violent\r\n",
       "crime</th>\n",
       "      <th>Murder and\r\n",
       "nonnegligent\r\n",
       "manslaughter</th>\n",
       "      <th>Rape\r\n",
       "(revised\r\n",
       "definition)1</th>\n",
       "      <th>Rape\r\n",
       "(legacy\r\n",
       "definition)2</th>\n",
       "      <th>Robbery</th>\n",
       "      <th>Aggravated\r\n",
       "assault</th>\n",
       "      <th>Property\r\n",
       "crime</th>\n",
       "      <th>Burglary</th>\n",
       "      <th>Larceny-\r\n",
       "theft</th>\n",
       "      <th>Motor\r\n",
       "vehicle\r\n",
       "theft</th>\n",
       "      <th>Arson3</th>\n",
       "      <th>Unnamed: 13</th>\n",
       "    </tr>\n",
       "  </thead>\n",
       "  <tbody>\n",
       "    <tr>\n",
       "      <th>0</th>\n",
       "      <td>Adams Village</td>\n",
       "      <td>1,861</td>\n",
       "      <td>0</td>\n",
       "      <td>0.0</td>\n",
       "      <td>NaN</td>\n",
       "      <td>0</td>\n",
       "      <td>0</td>\n",
       "      <td>0</td>\n",
       "      <td>12</td>\n",
       "      <td>2</td>\n",
       "      <td>10</td>\n",
       "      <td>0</td>\n",
       "      <td>0.0</td>\n",
       "      <td>NaN</td>\n",
       "    </tr>\n",
       "    <tr>\n",
       "      <th>1</th>\n",
       "      <td>Addison Town and Village</td>\n",
       "      <td>2,577</td>\n",
       "      <td>3</td>\n",
       "      <td>0.0</td>\n",
       "      <td>NaN</td>\n",
       "      <td>0</td>\n",
       "      <td>0</td>\n",
       "      <td>3</td>\n",
       "      <td>24</td>\n",
       "      <td>3</td>\n",
       "      <td>20</td>\n",
       "      <td>1</td>\n",
       "      <td>0.0</td>\n",
       "      <td>NaN</td>\n",
       "    </tr>\n",
       "    <tr>\n",
       "      <th>2</th>\n",
       "      <td>Akron Village</td>\n",
       "      <td>2,846</td>\n",
       "      <td>3</td>\n",
       "      <td>0.0</td>\n",
       "      <td>NaN</td>\n",
       "      <td>0</td>\n",
       "      <td>0</td>\n",
       "      <td>3</td>\n",
       "      <td>16</td>\n",
       "      <td>1</td>\n",
       "      <td>15</td>\n",
       "      <td>0</td>\n",
       "      <td>0.0</td>\n",
       "      <td>NaN</td>\n",
       "    </tr>\n",
       "    <tr>\n",
       "      <th>3</th>\n",
       "      <td>Albany</td>\n",
       "      <td>97,956</td>\n",
       "      <td>791</td>\n",
       "      <td>8.0</td>\n",
       "      <td>NaN</td>\n",
       "      <td>30</td>\n",
       "      <td>227</td>\n",
       "      <td>526</td>\n",
       "      <td>4,090</td>\n",
       "      <td>705</td>\n",
       "      <td>3,243</td>\n",
       "      <td>142</td>\n",
       "      <td>NaN</td>\n",
       "      <td>NaN</td>\n",
       "    </tr>\n",
       "    <tr>\n",
       "      <th>4</th>\n",
       "      <td>Albion Village</td>\n",
       "      <td>6,388</td>\n",
       "      <td>23</td>\n",
       "      <td>0.0</td>\n",
       "      <td>NaN</td>\n",
       "      <td>3</td>\n",
       "      <td>4</td>\n",
       "      <td>16</td>\n",
       "      <td>223</td>\n",
       "      <td>53</td>\n",
       "      <td>165</td>\n",
       "      <td>5</td>\n",
       "      <td>NaN</td>\n",
       "      <td>NaN</td>\n",
       "    </tr>\n",
       "  </tbody>\n",
       "</table>\n",
       "</div>"
      ],
      "text/plain": [
       "                       City Population Violent\\r\\ncrime  \\\n",
       "0             Adams Village      1,861                0   \n",
       "1  Addison Town and Village      2,577                3   \n",
       "2             Akron Village      2,846                3   \n",
       "3                    Albany     97,956              791   \n",
       "4            Albion Village      6,388               23   \n",
       "\n",
       "   Murder and\\r\\nnonnegligent\\r\\nmanslaughter  \\\n",
       "0                                         0.0   \n",
       "1                                         0.0   \n",
       "2                                         0.0   \n",
       "3                                         8.0   \n",
       "4                                         0.0   \n",
       "\n",
       "   Rape\\r\\n(revised\\r\\ndefinition)1 Rape\\r\\n(legacy\\r\\ndefinition)2 Robbery  \\\n",
       "0                               NaN                               0       0   \n",
       "1                               NaN                               0       0   \n",
       "2                               NaN                               0       0   \n",
       "3                               NaN                              30     227   \n",
       "4                               NaN                               3       4   \n",
       "\n",
       "  Aggravated\\r\\nassault Property\\r\\ncrime Burglary Larceny-\\r\\ntheft  \\\n",
       "0                     0                12        2                10   \n",
       "1                     3                24        3                20   \n",
       "2                     3                16        1                15   \n",
       "3                   526             4,090      705             3,243   \n",
       "4                    16               223       53               165   \n",
       "\n",
       "  Motor\\r\\nvehicle\\r\\ntheft  Arson3  Unnamed: 13  \n",
       "0                         0     0.0          NaN  \n",
       "1                         1     0.0          NaN  \n",
       "2                         0     0.0          NaN  \n",
       "3                       142     NaN          NaN  \n",
       "4                         5     NaN          NaN  "
      ]
     },
     "execution_count": 3,
     "metadata": {},
     "output_type": "execute_result"
    }
   ],
   "source": [
    "df = pd.read_csv('./data/table_8_offenses_known_to_law_enforcement_new_york_by_city_2013.csv', delimiter= ',')\n",
    "print(f'Shape: {df.shape}')\n",
    "df.head()"
   ]
  },
  {
   "cell_type": "code",
   "execution_count": 150,
   "metadata": {
    "scrolled": true
   },
   "outputs": [
    {
     "data": {
      "text/plain": [
       "Index(['City', 'Population', 'Violent\\r\\ncrime', 'Murder',\n",
       "       'Rape\\r\\n(revised\\r\\ndefinition)1', 'Rape\\r\\n(legacy\\r\\ndefinition)2',\n",
       "       'Robbery', 'Aggravated\\r\\nassault', 'Property\\r\\ncrime', 'Burglary',\n",
       "       'Larceny-\\r\\ntheft', 'Motor\\r\\nvehicle\\r\\ntheft', 'Arson3',\n",
       "       'Unnamed: 13', 'MurderCat', 'BurglaryLog', 'ViolentCrimeLog',\n",
       "       'AggravatedAssultLog', 'LarTheftLog', 'MotorVTheftLog',\n",
       "       'PopulationLog'],\n",
       "      dtype='object')"
      ]
     },
     "execution_count": 150,
     "metadata": {},
     "output_type": "execute_result"
    }
   ],
   "source": [
    "df.columns"
   ]
  },
  {
   "cell_type": "markdown",
   "metadata": {},
   "source": [
    "### Rename Murder column"
   ]
  },
  {
   "cell_type": "code",
   "execution_count": 5,
   "metadata": {
    "collapsed": true
   },
   "outputs": [],
   "source": [
    "# Rename murder column\n",
    "df = df.rename(columns={'Murder and\\r\\nnonnegligent\\r\\nmanslaughter': 'Murder'})"
   ]
  },
  {
   "cell_type": "code",
   "execution_count": 7,
   "metadata": {
    "collapsed": true
   },
   "outputs": [],
   "source": [
    "# Set to binary form\n",
    "df['MurderCat'] = np.where(df['Murder'] > 0, 1, 0)"
   ]
  },
  {
   "cell_type": "code",
   "execution_count": 18,
   "metadata": {},
   "outputs": [],
   "source": [
    "# SELECTED FEATURES\n",
    "# -----------------\n",
    "# Violent crime\n",
    "# Aggravated assault\n",
    "# Burglary\n",
    "# Larceny- theft\n",
    "# Motor vehicle theft\n",
    "# Population\n",
    "# Robbery\n",
    "\n",
    "df['Burglary'] = df['Burglary'].str.replace(',','')\n",
    "df['Burglary'] = df['Burglary'].astype(float)\n",
    "\n",
    "df['Violent\\r\\ncrime'] = df['Violent\\r\\ncrime'].str.replace(',','')\n",
    "df['Violent\\r\\ncrime'] = df['Violent\\r\\ncrime'].astype(float)\n",
    "\n",
    "df['Aggravated\\r\\nassault'] = df['Aggravated\\r\\nassault'].str.replace(',','')\n",
    "df['Aggravated\\r\\nassault'] = df['Aggravated\\r\\nassault'].astype(float)\n",
    "\n",
    "df['Larceny-\\r\\ntheft'] = df['Larceny-\\r\\ntheft'].str.replace(',','')\n",
    "df['Larceny-\\r\\ntheft'] = df['Larceny-\\r\\ntheft'].astype(float)\n",
    "\n",
    "df['Motor\\r\\nvehicle\\r\\ntheft'] = df['Motor\\r\\nvehicle\\r\\ntheft'].str.replace(',','')\n",
    "df['Motor\\r\\nvehicle\\r\\ntheft'] = df['Motor\\r\\nvehicle\\r\\ntheft'].astype(float)\n",
    "\n",
    "df['Population'] = df['Population'].str.replace(',','')\n",
    "df['Population'] = df['Population'].astype(float)\n",
    "\n",
    "df['Robbery'] = df['Robbery'].str.replace(',','')\n",
    "df['Robbery'] = df['Robbery'].astype(float)\n",
    "\n",
    "df['Property\\r\\ncrime'] = df['Property\\r\\ncrime'].str.replace(',','')\n",
    "df['Property\\r\\ncrime'] = df['Property\\r\\ncrime'].astype(float)"
   ]
  },
  {
   "cell_type": "markdown",
   "metadata": {},
   "source": [
    "## Feature Creation"
   ]
  },
  {
   "cell_type": "code",
   "execution_count": 214,
   "metadata": {},
   "outputs": [],
   "source": [
    "# Log features\n",
    "df['BurglaryLog'] = np.log1p(df['Burglary'])\n",
    "df['ViolentCrimeLog'] = np.log1p(df['Violent\\r\\ncrime'])\n",
    "df['AggravatedAssultLog'] = np.log1p(df['Aggravated\\r\\nassault'])\n",
    "df['LarTheftLog'] = np.log1p(df['Larceny-\\r\\ntheft'])\n",
    "df['MotorVTheftLog'] = np.log1p(df['Motor\\r\\nvehicle\\r\\ntheft'])\n",
    "df['PopulationLog'] = np.log1p(df['Population'])\n",
    "df['ViolentCrimePop'] = np.sqrt(df['Violent\\r\\ncrime'] / df['Population'])\n",
    "df['RobberyLog'] = np.log1p(df['Robbery'])\n",
    "df['PropertyCrimeLog'] = np.log1p(df['Property\\r\\ncrime'])\n",
    "\n",
    "# Remove the 3 nan rows\n",
    "df = df[df['PopulationLog'].notnull()]"
   ]
  },
  {
   "cell_type": "markdown",
   "metadata": {},
   "source": [
    "## Logistic Regression Model"
   ]
  },
  {
   "cell_type": "code",
   "execution_count": 233,
   "metadata": {},
   "outputs": [],
   "source": [
    "# Test and Train sets\n",
    "X = df[['BurglaryLog', 'ViolentCrimeLog', 'AggravatedAssultLog', 'LarTheftLog', 'MotorVTheftLog', 'PopulationLog', 'ViolentCrimePop', 'RobberyLog', 'PropertyCrimeLog']]\n",
    "y = df['MurderCat']\n",
    "\n",
    "X_train, X_test, y_train, y_test = train_test_split(X, y, test_size=0.25, random_state=42)"
   ]
  },
  {
   "cell_type": "code",
   "execution_count": 234,
   "metadata": {},
   "outputs": [
    {
     "name": "stdout",
     "output_type": "stream",
     "text": [
      "Optimization terminated successfully.\n",
      "         Current function value: 0.202929\n",
      "         Iterations 9\n",
      "                           Logit Regression Results                           \n",
      "==============================================================================\n",
      "Dep. Variable:              MurderCat   No. Observations:                  261\n",
      "Model:                          Logit   Df Residuals:                      252\n",
      "Method:                           MLE   Df Model:                            8\n",
      "Date:                Tue, 14 Aug 2018   Pseudo R-squ.:                  0.4851\n",
      "Time:                        21:17:41   Log-Likelihood:                -52.964\n",
      "converged:                       True   LL-Null:                       -102.86\n",
      "                                        LLR p-value:                 4.702e-18\n",
      "=======================================================================================\n",
      "                          coef    std err          z      P>|z|      [0.025      0.975]\n",
      "---------------------------------------------------------------------------------------\n",
      "BurglaryLog             0.4628      1.529      0.303      0.762      -2.533       3.459\n",
      "ViolentCrimeLog         6.8865      2.264      3.041      0.002       2.448      11.325\n",
      "AggravatedAssultLog    -4.3389      1.570     -2.763      0.006      -7.417      -1.261\n",
      "LarTheftLog             1.0967      6.790      0.162      0.872     -12.212      14.406\n",
      "MotorVTheftLog          0.1626      0.419      0.388      0.698      -0.659       0.985\n",
      "PopulationLog           0.6751      0.574      1.175      0.240      -0.451       1.801\n",
      "RobberyLog             -1.3920      0.759     -1.833      0.067      -2.880       0.096\n",
      "PropertyCrimeLog       -2.1269      8.454     -0.252      0.801     -18.696      14.442\n",
      "intercept             -11.4427      5.863     -1.952      0.051     -22.933       0.048\n",
      "=======================================================================================\n"
     ]
    },
    {
     "name": "stderr",
     "output_type": "stream",
     "text": [
      "/Users/rook/anaconda3/lib/python3.6/site-packages/ipykernel_launcher.py:1: SettingWithCopyWarning: \n",
      "A value is trying to be set on a copy of a slice from a DataFrame.\n",
      "Try using .loc[row_indexer,col_indexer] = value instead\n",
      "\n",
      "See the caveats in the documentation: http://pandas.pydata.org/pandas-docs/stable/indexing.html#indexing-view-versus-copy\n",
      "  \"\"\"Entry point for launching an IPython kernel.\n",
      "/Users/rook/anaconda3/lib/python3.6/site-packages/ipykernel_launcher.py:2: SettingWithCopyWarning: \n",
      "A value is trying to be set on a copy of a slice from a DataFrame.\n",
      "Try using .loc[row_indexer,col_indexer] = value instead\n",
      "\n",
      "See the caveats in the documentation: http://pandas.pydata.org/pandas-docs/stable/indexing.html#indexing-view-versus-copy\n",
      "  \n"
     ]
    }
   ],
   "source": [
    "X_train['intercept'] = 1\n",
    "X_test['intercept'] = 1\n",
    "\n",
    "# Declare and fit the model.\n",
    "logit = sm.Logit(y_train, X_train)\n",
    "result = logit.fit()\n",
    "\n",
    "# Lots of information about the model and its coefficients, but the\n",
    "# accuracy rate for predictions is missing.\n",
    "print(result.summary())"
   ]
  },
  {
   "cell_type": "code",
   "execution_count": 235,
   "metadata": {},
   "outputs": [
    {
     "name": "stdout",
     "output_type": "stream",
     "text": [
      "\n",
      " Accuracy by admission status\n",
      "col_0       0  1\n",
      "MurderCat       \n",
      "0          69  4\n",
      "1           5  9\n",
      "\n",
      " Percentage accuracy\n",
      "0.896551724137931\n"
     ]
    }
   ],
   "source": [
    "# Calculate accuracy. First, get probability that each row will be admitted.\n",
    "pred_statsmod = result.predict(X_test)\n",
    "\n",
    "# Code admission as 1 if probability is greater than .5.\n",
    "pred_y_statsmod = np.where(pred_statsmod < .5, 0, 1)\n",
    "\n",
    "# Accuracy table.\n",
    "table = pd.crosstab(y_test, pred_y_statsmod)\n",
    "\n",
    "print('\\n Accuracy by admission status')\n",
    "print(table)\n",
    "print('\\n Percentage accuracy')\n",
    "print((table.iloc[0,0] + table.iloc[1,1]) / (table.sum().sum()))"
   ]
  },
  {
   "cell_type": "markdown",
   "metadata": {},
   "source": [
    "## Ridge Regression"
   ]
  },
  {
   "cell_type": "code",
   "execution_count": 236,
   "metadata": {},
   "outputs": [
    {
     "name": "stdout",
     "output_type": "stream",
     "text": [
      "[0.1 0.2 0.3 0.4 0.5 0.6 0.7 0.8 0.9]\n",
      "\n",
      "-----\n",
      "\n",
      "[0.3949953060454783, 0.3949903048232367, 0.3949836036064982, 0.3949758593160162, 0.39496744665221983, 0.3949585885045592, 0.39494942270204947, 0.39494003771319564, 0.39493049245559053]\n"
     ]
    }
   ],
   "source": [
    "lams = np.arange(0.1, 1, .1)\n",
    "\n",
    "r2s_ridge = []\n",
    "\n",
    "for lam in lams:\n",
    "    ridgeregrBig = linear_model.Ridge(alpha=lam, fit_intercept=True)\n",
    "    ridgeregrBig.fit(X_train, y_train)\n",
    "    r2s_ridge.append(ridgeregrBig.score(X_train, y_train))\n",
    "\n",
    "print(lams)\n",
    "print('\\n-----\\n')\n",
    "print(r2s_ridge)"
   ]
  },
  {
   "cell_type": "code",
   "execution_count": 237,
   "metadata": {},
   "outputs": [
    {
     "data": {
      "text/plain": [
       "0"
      ]
     },
     "execution_count": 237,
     "metadata": {},
     "output_type": "execute_result"
    }
   ],
   "source": [
    "np.argmax(r2s_ridge, axis=0)"
   ]
  },
  {
   "cell_type": "code",
   "execution_count": 245,
   "metadata": {},
   "outputs": [
    {
     "name": "stdout",
     "output_type": "stream",
     "text": [
      "Ridge Regression Train Score: 0.3949953060454783\n"
     ]
    }
   ],
   "source": [
    "ridgeregr = linear_model.Ridge(alpha=0.1, fit_intercept=True)\n",
    "ridgeregr.fit(X_train, y_train)\n",
    "print(f'Ridge Regression Train Score: {ridgeregr.score(X_train, y_train)}')"
   ]
  },
  {
   "cell_type": "markdown",
   "metadata": {},
   "source": [
    "### Ridge Test set"
   ]
  },
  {
   "cell_type": "code",
   "execution_count": 246,
   "metadata": {},
   "outputs": [
    {
     "name": "stdout",
     "output_type": "stream",
     "text": [
      "\n",
      " Accuracy by admission status\n",
      "col_0       0  1\n",
      "MurderCat       \n",
      "0          71  2\n",
      "1           9  5\n",
      "\n",
      " Percentage accuracy\n",
      "0.8735632183908046\n"
     ]
    }
   ],
   "source": [
    "preds = ridgeregr.predict(X_test)\n",
    "\n",
    "# Code admission as 1 if probability is greater than .5.\n",
    "pred_y = np.where(preds < .5, 0, 1)\n",
    "\n",
    "# Accuracy table.\n",
    "table = pd.crosstab(y_test, pred_y)\n",
    "\n",
    "print('\\n Accuracy by admission status')\n",
    "print(table)\n",
    "print('\\n Percentage accuracy')\n",
    "print((table.iloc[0,0] + table.iloc[1,1]) / (table.sum().sum()))"
   ]
  },
  {
   "cell_type": "markdown",
   "metadata": {},
   "source": [
    "The Ridge resgression model is slightly less accurate than the plain logistic regression model."
   ]
  },
  {
   "cell_type": "markdown",
   "metadata": {},
   "source": [
    "## Lasso Regression"
   ]
  },
  {
   "cell_type": "code",
   "execution_count": 240,
   "metadata": {},
   "outputs": [
    {
     "name": "stdout",
     "output_type": "stream",
     "text": [
      "[0.1 0.2 0.3 0.4 0.5 0.6 0.7 0.8 0.9]\n",
      "\n",
      "-----\n",
      "\n",
      "[0.34251927296676765, 0.2222590602833382, 0.06616259658655887, 0.0, 0.0, 0.0, 0.0, 0.0, 0.0]\n"
     ]
    }
   ],
   "source": [
    "lams = np.arange(0.1, 1, .1)\n",
    "\n",
    "r2s_las = []\n",
    "\n",
    "for lam in lams:\n",
    "    lassBig = linear_model.Lasso(alpha=lam)\n",
    "    lassBig.fit(X_train, y_train)\n",
    "    r2s_las.append(lassBig.score(X_train, y_train))\n",
    "\n",
    "print(lams)\n",
    "print('\\n-----\\n')\n",
    "print(r2s_las)"
   ]
  },
  {
   "cell_type": "markdown",
   "metadata": {},
   "source": [
    "### Lasso Test Set"
   ]
  },
  {
   "cell_type": "code",
   "execution_count": 241,
   "metadata": {},
   "outputs": [
    {
     "data": {
      "text/plain": [
       "0.34251927296676765"
      ]
     },
     "execution_count": 241,
     "metadata": {},
     "output_type": "execute_result"
    }
   ],
   "source": [
    "lass = linear_model.Lasso(alpha=0.1)\n",
    "lass.fit(X_train, y_train)\n",
    "lass.score(X_train, y_train)"
   ]
  },
  {
   "cell_type": "code",
   "execution_count": 242,
   "metadata": {},
   "outputs": [
    {
     "name": "stdout",
     "output_type": "stream",
     "text": [
      "\n",
      " Accuracy by admission status\n",
      "col_0       0  1\n",
      "MurderCat       \n",
      "0          73  0\n",
      "1          12  2\n",
      "\n",
      " Percentage accuracy\n",
      "0.8620689655172413\n"
     ]
    }
   ],
   "source": [
    "preds = lass.predict(X_test)\n",
    "\n",
    "# Code admission as 1 if probability is greater than .5.\n",
    "pred_y = np.where(preds < .5, 0, 1)\n",
    "\n",
    "# Accuracy table.\n",
    "table = pd.crosstab(y_test, pred_y)\n",
    "\n",
    "print('\\n Accuracy by admission status')\n",
    "print(table)\n",
    "print('\\n Percentage accuracy')\n",
    "print((table.iloc[0,0] + table.iloc[1,1]) / (table.sum().sum()))"
   ]
  },
  {
   "cell_type": "markdown",
   "metadata": {},
   "source": [
    "Lasso regression seems to be slightly less accurate than both plain logistic regression and ridge regression."
   ]
  },
  {
   "cell_type": "markdown",
   "metadata": {},
   "source": [
    "## Summary"
   ]
  },
  {
   "cell_type": "markdown",
   "metadata": {},
   "source": [
    "Overall, it appears that the vanilla logistic regression model performed the best.  It had the highest R² value as well as the highest accuracy.  The ridge regression model was a close second and the lasso regression model performed the worst.\n",
    "\n",
    "This intuitively makes sense considering that regularization is intended to reduce overfitting and increase the generalizability of the model.  The logistic regression model didn’t appear to be overfitting.  The coefficients weren’t growing very large and R² wasn’t suspiciously high.\n",
    "\n",
    "Adding Lasso to a model like this might not be the best idea because we are not dealing with a very large feature set.  So If one of the few features is effectively shut off by L1 regularization, we can expect the model to potentially not perform as well.\n",
    "\n",
    "If I were to add more features, I suspect the L2 model would end up performing better since they are currently very close in accuracy and as the feature set increases, so does the complexity of the model and therefore the greater the need for regularization."
   ]
  }
 ],
 "metadata": {
  "kernelspec": {
   "display_name": "Python 3",
   "language": "python",
   "name": "python3"
  },
  "language_info": {
   "codemirror_mode": {
    "name": "ipython",
    "version": 3
   },
   "file_extension": ".py",
   "mimetype": "text/x-python",
   "name": "python",
   "nbconvert_exporter": "python",
   "pygments_lexer": "ipython3",
   "version": "3.6.3"
  }
 },
 "nbformat": 4,
 "nbformat_minor": 2
}

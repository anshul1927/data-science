{
 "cells": [
  {
   "cell_type": "markdown",
   "metadata": {},
   "source": [
    "# Genetic Variant Classifications\n",
    "---"
   ]
  },
  {
   "cell_type": "markdown",
   "metadata": {},
   "source": [
    "## Introduction\n",
    "\n",
    "The ClinVar dataset is a public resource containing annotations about human genetic variants. These variants are (usually manually) classified by clinical laboratories on a categorical spectrum ranging from benign, likely benign, uncertain significance, likely pathogenic, and pathogenic. Variants that have conflicting classifications (from laboratory to laboratory) can cause confusion when clinicians or researchers try to interpret whether the variant has an impact on the disease of a given patient.\n",
    "\n",
    "Conflicting classifications are when two of any of the following three categories are present for one variant, two submissions of one category are not considered conflicting.\n",
    "\n",
    "* Likely Benign or Benign\n",
    "* VUS (uncertain significance)\n",
    "* Likely Pathogenic or Pathogenic"
   ]
  },
  {
   "cell_type": "markdown",
   "metadata": {},
   "source": [
    "## Question\n",
    "\n",
    "Given a set of variant features, we are going to try and identify whether that variant is likely to posses a conflicting classification or not using machine learning as opposed to manual classification.\n",
    "\n",
    "Conflicting classification has been assigned to a CLASS column. It is a binary representation of whether or not a variant has conflicting classifications, where 0 represents consistent classifications and 1 represents conflicting classifications."
   ]
  },
  {
   "cell_type": "markdown",
   "metadata": {},
   "source": [
    "## Models\n",
    "\n",
    "The machine learning models I will be experiementing with to solve this problem are listed below:\n",
    "\n",
    "* Logistic Regression\n",
    "* Random Forest\n",
    "* Gradient Boosting"
   ]
  },
  {
   "cell_type": "code",
   "execution_count": 141,
   "metadata": {},
   "outputs": [],
   "source": [
    "import pandas as pd\n",
    "import numpy as np\n",
    "import seaborn as sns\n",
    "import matplotlib.pyplot as plt\n",
    "from sklearn import ensemble\n",
    "from sklearn.model_selection import cross_val_score\n",
    "from sklearn.model_selection import train_test_split\n",
    "from sklearn.linear_model import LogisticRegression\n",
    "from imblearn.ensemble import EasyEnsemble\n",
    "from sklearn.metrics import roc_auc_score\n",
    "from sklearn.feature_selection import chi2\n",
    "from sklearn.preprocessing import Imputer\n",
    "from sklearn.feature_selection import chi2 as chi2_sk\n",
    "from sklearn.feature_selection import VarianceThreshold\n",
    "from sklearn.model_selection import GridSearchCV\n",
    "import scipy.stats as stats\n",
    "from sklearn.metrics import confusion_matrix\n",
    "from sklearn.metrics import classification_report\n",
    "stats.chisqprob = lambda chisq, df: stats.chi2.sf(chisq, df)\n",
    "%matplotlib inline"
   ]
  },
  {
   "cell_type": "markdown",
   "metadata": {},
   "source": [
    "## Import the dataset"
   ]
  },
  {
   "cell_type": "code",
   "execution_count": 79,
   "metadata": {},
   "outputs": [
    {
     "name": "stderr",
     "output_type": "stream",
     "text": [
      "/Users/rook/anaconda3/lib/python3.6/site-packages/IPython/core/interactiveshell.py:2698: DtypeWarning: Columns (0,38,40) have mixed types. Specify dtype option on import or set low_memory=False.\n",
      "  interactivity=interactivity, compiler=compiler, result=result)\n"
     ]
    },
    {
     "data": {
      "text/plain": [
       "(65188, 46)"
      ]
     },
     "execution_count": 79,
     "metadata": {},
     "output_type": "execute_result"
    }
   ],
   "source": [
    "df = pd.read_csv('./data/clinvar_conflicting.csv')\n",
    "df.shape"
   ]
  },
  {
   "cell_type": "code",
   "execution_count": 80,
   "metadata": {
    "scrolled": true
   },
   "outputs": [
    {
     "data": {
      "text/html": [
       "<div>\n",
       "<style>\n",
       "    .dataframe thead tr:only-child th {\n",
       "        text-align: right;\n",
       "    }\n",
       "\n",
       "    .dataframe thead th {\n",
       "        text-align: left;\n",
       "    }\n",
       "\n",
       "    .dataframe tbody tr th {\n",
       "        vertical-align: top;\n",
       "    }\n",
       "</style>\n",
       "<table border=\"1\" class=\"dataframe\">\n",
       "  <thead>\n",
       "    <tr style=\"text-align: right;\">\n",
       "      <th></th>\n",
       "      <th>CHROM</th>\n",
       "      <th>POS</th>\n",
       "      <th>REF</th>\n",
       "      <th>ALT</th>\n",
       "      <th>AF_ESP</th>\n",
       "      <th>AF_EXAC</th>\n",
       "      <th>AF_TGP</th>\n",
       "      <th>CLNDISDB</th>\n",
       "      <th>CLNDISDBINCL</th>\n",
       "      <th>CLNDN</th>\n",
       "      <th>...</th>\n",
       "      <th>SIFT</th>\n",
       "      <th>PolyPhen</th>\n",
       "      <th>MOTIF_NAME</th>\n",
       "      <th>MOTIF_POS</th>\n",
       "      <th>HIGH_INF_POS</th>\n",
       "      <th>MOTIF_SCORE_CHANGE</th>\n",
       "      <th>LoFtool</th>\n",
       "      <th>CADD_PHRED</th>\n",
       "      <th>CADD_RAW</th>\n",
       "      <th>BLOSUM62</th>\n",
       "    </tr>\n",
       "  </thead>\n",
       "  <tbody>\n",
       "    <tr>\n",
       "      <th>0</th>\n",
       "      <td>1</td>\n",
       "      <td>955563</td>\n",
       "      <td>G</td>\n",
       "      <td>C</td>\n",
       "      <td>0.0000</td>\n",
       "      <td>0.00000</td>\n",
       "      <td>0.0000</td>\n",
       "      <td>MedGen:C3808739,OMIM:615120|MedGen:CN169374</td>\n",
       "      <td>NaN</td>\n",
       "      <td>Myasthenic_syndrome,_congenital,_8|not_specified</td>\n",
       "      <td>...</td>\n",
       "      <td>NaN</td>\n",
       "      <td>NaN</td>\n",
       "      <td>NaN</td>\n",
       "      <td>NaN</td>\n",
       "      <td>NaN</td>\n",
       "      <td>NaN</td>\n",
       "      <td>0.421</td>\n",
       "      <td>11.390</td>\n",
       "      <td>1.133255</td>\n",
       "      <td>-2.0</td>\n",
       "    </tr>\n",
       "    <tr>\n",
       "      <th>1</th>\n",
       "      <td>1</td>\n",
       "      <td>955597</td>\n",
       "      <td>G</td>\n",
       "      <td>T</td>\n",
       "      <td>0.0000</td>\n",
       "      <td>0.42418</td>\n",
       "      <td>0.2826</td>\n",
       "      <td>MedGen:CN169374</td>\n",
       "      <td>NaN</td>\n",
       "      <td>not_specified</td>\n",
       "      <td>...</td>\n",
       "      <td>NaN</td>\n",
       "      <td>NaN</td>\n",
       "      <td>NaN</td>\n",
       "      <td>NaN</td>\n",
       "      <td>NaN</td>\n",
       "      <td>NaN</td>\n",
       "      <td>0.421</td>\n",
       "      <td>8.150</td>\n",
       "      <td>0.599088</td>\n",
       "      <td>NaN</td>\n",
       "    </tr>\n",
       "    <tr>\n",
       "      <th>2</th>\n",
       "      <td>1</td>\n",
       "      <td>955619</td>\n",
       "      <td>G</td>\n",
       "      <td>C</td>\n",
       "      <td>0.0000</td>\n",
       "      <td>0.03475</td>\n",
       "      <td>0.0088</td>\n",
       "      <td>MedGen:C3808739,OMIM:615120|MedGen:CN169374</td>\n",
       "      <td>NaN</td>\n",
       "      <td>Myasthenic_syndrome,_congenital,_8|not_specified</td>\n",
       "      <td>...</td>\n",
       "      <td>NaN</td>\n",
       "      <td>NaN</td>\n",
       "      <td>NaN</td>\n",
       "      <td>NaN</td>\n",
       "      <td>NaN</td>\n",
       "      <td>NaN</td>\n",
       "      <td>0.421</td>\n",
       "      <td>3.288</td>\n",
       "      <td>0.069819</td>\n",
       "      <td>1.0</td>\n",
       "    </tr>\n",
       "    <tr>\n",
       "      <th>3</th>\n",
       "      <td>1</td>\n",
       "      <td>957640</td>\n",
       "      <td>C</td>\n",
       "      <td>T</td>\n",
       "      <td>0.0318</td>\n",
       "      <td>0.02016</td>\n",
       "      <td>0.0328</td>\n",
       "      <td>MedGen:C3808739,OMIM:615120|MedGen:CN169374</td>\n",
       "      <td>NaN</td>\n",
       "      <td>Myasthenic_syndrome,_congenital,_8|not_specified</td>\n",
       "      <td>...</td>\n",
       "      <td>NaN</td>\n",
       "      <td>NaN</td>\n",
       "      <td>NaN</td>\n",
       "      <td>NaN</td>\n",
       "      <td>NaN</td>\n",
       "      <td>NaN</td>\n",
       "      <td>0.421</td>\n",
       "      <td>12.560</td>\n",
       "      <td>1.356499</td>\n",
       "      <td>NaN</td>\n",
       "    </tr>\n",
       "    <tr>\n",
       "      <th>4</th>\n",
       "      <td>1</td>\n",
       "      <td>976059</td>\n",
       "      <td>C</td>\n",
       "      <td>T</td>\n",
       "      <td>0.0000</td>\n",
       "      <td>0.00022</td>\n",
       "      <td>0.0010</td>\n",
       "      <td>MedGen:CN169374</td>\n",
       "      <td>NaN</td>\n",
       "      <td>not_specified</td>\n",
       "      <td>...</td>\n",
       "      <td>NaN</td>\n",
       "      <td>NaN</td>\n",
       "      <td>NaN</td>\n",
       "      <td>NaN</td>\n",
       "      <td>NaN</td>\n",
       "      <td>NaN</td>\n",
       "      <td>0.421</td>\n",
       "      <td>17.740</td>\n",
       "      <td>2.234711</td>\n",
       "      <td>NaN</td>\n",
       "    </tr>\n",
       "  </tbody>\n",
       "</table>\n",
       "<p>5 rows × 46 columns</p>\n",
       "</div>"
      ],
      "text/plain": [
       "  CHROM     POS REF ALT  AF_ESP  AF_EXAC  AF_TGP  \\\n",
       "0     1  955563   G   C  0.0000  0.00000  0.0000   \n",
       "1     1  955597   G   T  0.0000  0.42418  0.2826   \n",
       "2     1  955619   G   C  0.0000  0.03475  0.0088   \n",
       "3     1  957640   C   T  0.0318  0.02016  0.0328   \n",
       "4     1  976059   C   T  0.0000  0.00022  0.0010   \n",
       "\n",
       "                                      CLNDISDB CLNDISDBINCL  \\\n",
       "0  MedGen:C3808739,OMIM:615120|MedGen:CN169374          NaN   \n",
       "1                              MedGen:CN169374          NaN   \n",
       "2  MedGen:C3808739,OMIM:615120|MedGen:CN169374          NaN   \n",
       "3  MedGen:C3808739,OMIM:615120|MedGen:CN169374          NaN   \n",
       "4                              MedGen:CN169374          NaN   \n",
       "\n",
       "                                              CLNDN   ...    SIFT PolyPhen  \\\n",
       "0  Myasthenic_syndrome,_congenital,_8|not_specified   ...     NaN      NaN   \n",
       "1                                     not_specified   ...     NaN      NaN   \n",
       "2  Myasthenic_syndrome,_congenital,_8|not_specified   ...     NaN      NaN   \n",
       "3  Myasthenic_syndrome,_congenital,_8|not_specified   ...     NaN      NaN   \n",
       "4                                     not_specified   ...     NaN      NaN   \n",
       "\n",
       "  MOTIF_NAME MOTIF_POS HIGH_INF_POS MOTIF_SCORE_CHANGE  LoFtool  CADD_PHRED  \\\n",
       "0        NaN       NaN          NaN                NaN    0.421      11.390   \n",
       "1        NaN       NaN          NaN                NaN    0.421       8.150   \n",
       "2        NaN       NaN          NaN                NaN    0.421       3.288   \n",
       "3        NaN       NaN          NaN                NaN    0.421      12.560   \n",
       "4        NaN       NaN          NaN                NaN    0.421      17.740   \n",
       "\n",
       "   CADD_RAW BLOSUM62  \n",
       "0  1.133255     -2.0  \n",
       "1  0.599088      NaN  \n",
       "2  0.069819      1.0  \n",
       "3  1.356499      NaN  \n",
       "4  2.234711      NaN  \n",
       "\n",
       "[5 rows x 46 columns]"
      ]
     },
     "execution_count": 80,
     "metadata": {},
     "output_type": "execute_result"
    }
   ],
   "source": [
    "df.head()"
   ]
  },
  {
   "cell_type": "markdown",
   "metadata": {},
   "source": [
    "### Binary class split"
   ]
  },
  {
   "cell_type": "code",
   "execution_count": 81,
   "metadata": {
    "scrolled": true
   },
   "outputs": [
    {
     "data": {
      "text/plain": [
       "0    48754\n",
       "1    16434\n",
       "Name: CLASS, dtype: int64"
      ]
     },
     "execution_count": 81,
     "metadata": {},
     "output_type": "execute_result"
    }
   ],
   "source": [
    "df['CLASS'].value_counts()"
   ]
  },
  {
   "cell_type": "code",
   "execution_count": 82,
   "metadata": {},
   "outputs": [
    {
     "data": {
      "text/plain": [
       "0    0.747898\n",
       "1    0.252102\n",
       "Name: CLASS, dtype: float64"
      ]
     },
     "execution_count": 82,
     "metadata": {},
     "output_type": "execute_result"
    }
   ],
   "source": [
    "df['CLASS'].value_counts(normalize=True)"
   ]
  },
  {
   "cell_type": "markdown",
   "metadata": {},
   "source": [
    "Slightly imbalanced."
   ]
  },
  {
   "cell_type": "markdown",
   "metadata": {},
   "source": [
    "### Data preprocessing"
   ]
  },
  {
   "cell_type": "code",
   "execution_count": 83,
   "metadata": {
    "collapsed": true
   },
   "outputs": [],
   "source": [
    "X = df.loc[:, ~df.columns.isin(['CLASS'])]\n",
    "Y = df['CLASS']"
   ]
  },
  {
   "cell_type": "code",
   "execution_count": 84,
   "metadata": {
    "scrolled": false
   },
   "outputs": [
    {
     "name": "stdout",
     "output_type": "stream",
     "text": [
      "CHROM\n",
      "25\n",
      "REF\n",
      "866\n",
      "ALT\n",
      "458\n",
      "CLNDISDB\n",
      "9234\n",
      "CLNDISDBINCL\n",
      "48\n",
      "CLNDN\n",
      "9260\n",
      "CLNDNINCL\n",
      "54\n",
      "CLNHGVS\n",
      "65188\n",
      "CLNSIGINCL\n",
      "68\n",
      "CLNVC\n",
      "7\n",
      "CLNVI\n",
      "26289\n",
      "MC\n",
      "89\n",
      "Allele\n",
      "374\n",
      "Consequence\n",
      "48\n",
      "IMPACT\n",
      "4\n",
      "SYMBOL\n",
      "2328\n",
      "Feature_type\n",
      "2\n",
      "Feature\n",
      "2369\n",
      "BIOTYPE\n",
      "2\n",
      "EXON\n",
      "3264\n",
      "INTRON\n",
      "1929\n",
      "cDNA_position\n",
      "13970\n",
      "CDS_position\n",
      "13663\n",
      "Protein_position\n",
      "7339\n",
      "Amino_acids\n",
      "1262\n",
      "Codons\n",
      "2220\n",
      "BAM_EDIT\n",
      "2\n",
      "SIFT\n",
      "4\n",
      "PolyPhen\n",
      "4\n",
      "MOTIF_NAME\n",
      "2\n",
      "HIGH_INF_POS\n",
      "1\n"
     ]
    }
   ],
   "source": [
    "# Converting to categorical\n",
    "convert_cat = []\n",
    "to_drop = []\n",
    "unique = None\n",
    "\n",
    "categorical = X.select_dtypes(include=['object'])\n",
    "for i in categorical:\n",
    "    column = categorical[i]\n",
    "    print(i)\n",
    "    unique = column.nunique()\n",
    "    print(unique)\n",
    "    \n",
    "    cont = pd.crosstab(X[i], Y)\n",
    "    chi2_res = scipy.stats.chi2_contingency(cont)\n",
    "    \n",
    "    # Keep all features with a significant P-value and drop the others\n",
    "    if chi2_res[1] <= 0.05:\n",
    "        convert_cat.append(i)\n",
    "    else:\n",
    "        to_drop.append(i)"
   ]
  },
  {
   "cell_type": "code",
   "execution_count": 85,
   "metadata": {
    "scrolled": true
   },
   "outputs": [
    {
     "name": "stdout",
     "output_type": "stream",
     "text": [
      "convert_cat\n",
      "------\n",
      "['CHROM', 'REF', 'ALT', 'CLNDISDB', 'CLNDN', 'CLNVC', 'MC', 'Allele', 'Consequence', 'IMPACT', 'SYMBOL', 'Feature', 'EXON', 'INTRON', 'cDNA_position', 'CDS_position', 'Protein_position', 'Amino_acids', 'Codons', 'BAM_EDIT'] \n",
      "\n",
      "to_drop\n",
      "------\n",
      "['CLNDISDBINCL', 'CLNDNINCL', 'CLNHGVS', 'CLNSIGINCL', 'CLNVI', 'Feature_type', 'BIOTYPE', 'SIFT', 'PolyPhen', 'MOTIF_NAME', 'HIGH_INF_POS']\n"
     ]
    }
   ],
   "source": [
    "print(f'convert_cat\\n------\\n{convert_cat} \\n')\n",
    "print(f'to_drop\\n------\\n{to_drop}')"
   ]
  },
  {
   "cell_type": "markdown",
   "metadata": {},
   "source": [
    "### Drop all features with more than 40% NaN's"
   ]
  },
  {
   "cell_type": "code",
   "execution_count": 86,
   "metadata": {},
   "outputs": [
    {
     "name": "stdout",
     "output_type": "stream",
     "text": [
      "CLNDISDBINCL: 0.9988341412529913\n",
      "CLNDNINCL: 0.9988341412529913\n",
      "CLNSIGINCL: 0.9988341412529913\n",
      "CLNVI: 0.5757041173222065\n",
      "SSR: 0.9984046143461986\n",
      "INTRON: 0.8649598085537216\n",
      "DISTANCE: 0.998343253359514\n",
      "BAM_EDIT: 0.509587654169479\n",
      "SIFT: 0.6190096336749095\n",
      "PolyPhen: 0.6196232435417561\n",
      "MOTIF_NAME: 0.9999693195066577\n",
      "MOTIF_POS: 0.9999693195066577\n",
      "HIGH_INF_POS: 0.9999693195066577\n",
      "MOTIF_SCORE_CHANGE: 0.9999693195066577\n",
      "BLOSUM62: 0.6073970669448365\n",
      "\n",
      "Number of features to drop: 15\n"
     ]
    }
   ],
   "source": [
    "to_drop_nans = []\n",
    "\n",
    "for c in X.columns:\n",
    "    if X[c].isnull().sum() / X.shape[0] > 0.40:\n",
    "        print(f'{c}: {X[c].isnull().sum() / X.shape[0]}')\n",
    "        to_drop_nans.append(c)\n",
    "        \n",
    "        # Remove from the convert_cat array\n",
    "        if c in convert_cat:\n",
    "            convert_cat.remove(c)\n",
    "            \n",
    "print(f'\\nNumber of features to drop: {len(to_drop_nans)}')"
   ]
  },
  {
   "cell_type": "code",
   "execution_count": 87,
   "metadata": {
    "collapsed": true
   },
   "outputs": [],
   "source": [
    "X = X.loc[:, ~X.columns.isin(to_drop_nans)]"
   ]
  },
  {
   "cell_type": "markdown",
   "metadata": {},
   "source": [
    "There were a few features that were almost entirely made up of NaN values.  Instead of imputing this data and essentially creating 60,000+ rows of made up figures, I decided to drop them all together."
   ]
  },
  {
   "cell_type": "code",
   "execution_count": 88,
   "metadata": {},
   "outputs": [
    {
     "data": {
      "text/plain": [
       "['CHROM',\n",
       " 'REF',\n",
       " 'ALT',\n",
       " 'CLNDISDB',\n",
       " 'CLNDN',\n",
       " 'CLNVC',\n",
       " 'MC',\n",
       " 'Allele',\n",
       " 'Consequence',\n",
       " 'IMPACT',\n",
       " 'SYMBOL',\n",
       " 'Feature',\n",
       " 'EXON',\n",
       " 'cDNA_position',\n",
       " 'CDS_position',\n",
       " 'Protein_position',\n",
       " 'Amino_acids',\n",
       " 'Codons']"
      ]
     },
     "execution_count": 88,
     "metadata": {},
     "output_type": "execute_result"
    }
   ],
   "source": [
    "convert_cat"
   ]
  },
  {
   "cell_type": "markdown",
   "metadata": {},
   "source": [
    "Above are the remaining categorical features to be converted to binary form."
   ]
  },
  {
   "cell_type": "markdown",
   "metadata": {},
   "source": [
    "### Convert features to categorical - get_dummies"
   ]
  },
  {
   "cell_type": "code",
   "execution_count": 89,
   "metadata": {
    "collapsed": true
   },
   "outputs": [],
   "source": [
    "# Deleting duplicate rows\n",
    "X = X.loc[:,~X.columns.duplicated()]\n",
    "\n",
    "# Drop cols with too many unique values\n",
    "X = X.loc[:, ~X.columns.isin(to_drop)]\n",
    "\n",
    "# Get dummies - conver to categroical\n",
    "X = pd.get_dummies(data=X, columns=convert_cat)\n",
    "\n",
    "X = X.loc[:,~X.columns.duplicated()]"
   ]
  },
  {
   "cell_type": "code",
   "execution_count": 90,
   "metadata": {},
   "outputs": [
    {
     "data": {
      "text/plain": [
       "(65188, 66788)"
      ]
     },
     "execution_count": 90,
     "metadata": {},
     "output_type": "execute_result"
    }
   ],
   "source": [
    "X.shape"
   ]
  },
  {
   "cell_type": "code",
   "execution_count": 91,
   "metadata": {
    "collapsed": true
   },
   "outputs": [],
   "source": [
    "# Find all features created by get_dummies\n",
    "cat_feat = []\n",
    "\n",
    "for feature in convert_cat:\n",
    "    for col in X.loc[:, X.columns.str.startswith(feature + \"_\")].columns:\n",
    "        cat_feat.append(col)"
   ]
  },
  {
   "cell_type": "markdown",
   "metadata": {},
   "source": [
    "### Run Chi2 after get_dummies"
   ]
  },
  {
   "cell_type": "code",
   "execution_count": 92,
   "metadata": {
    "collapsed": true
   },
   "outputs": [],
   "source": [
    "gd_convert_cat = []\n",
    "gd_to_dropt = []\n",
    "\n",
    "for feature in cat_feat:\n",
    "    cont = pd.crosstab(X[feature], Y)\n",
    "    chi2_res = scipy.stats.chi2_contingency(cont)\n",
    "    \n",
    "    # Keep all features with a significant P-value and drop the others\n",
    "    if chi2_res[1] <= 0.05:\n",
    "        gd_convert_cat.append(feature)\n",
    "    else:\n",
    "        gd_to_dropt.append(feature)"
   ]
  },
  {
   "cell_type": "code",
   "execution_count": 93,
   "metadata": {},
   "outputs": [
    {
     "data": {
      "text/plain": [
       "64912"
      ]
     },
     "execution_count": 93,
     "metadata": {},
     "output_type": "execute_result"
    }
   ],
   "source": [
    "len(gd_to_dropt)"
   ]
  },
  {
   "cell_type": "code",
   "execution_count": 112,
   "metadata": {
    "collapsed": true
   },
   "outputs": [],
   "source": [
    "# Get all categoircal features again\n",
    "# Find all features created by get_dummies\n",
    "cat_feat = []\n",
    "\n",
    "for feature in convert_cat:\n",
    "    for col in X.loc[:, X.columns.str.startswith(feature + \"_\")].columns:\n",
    "        cat_feat.append(col)"
   ]
  },
  {
   "cell_type": "markdown",
   "metadata": {},
   "source": [
    "We can see that the results of the Chi2 test are show that we should drop a substntial number of dummy features."
   ]
  },
  {
   "cell_type": "code",
   "execution_count": 94,
   "metadata": {
    "collapsed": true
   },
   "outputs": [],
   "source": [
    "X = X.loc[:, ~X.columns.isin(gd_to_dropt)]"
   ]
  },
  {
   "cell_type": "code",
   "execution_count": 95,
   "metadata": {},
   "outputs": [
    {
     "data": {
      "text/plain": [
       "(65188, 1876)"
      ]
     },
     "execution_count": 95,
     "metadata": {},
     "output_type": "execute_result"
    }
   ],
   "source": [
    "X.shape"
   ]
  },
  {
   "cell_type": "markdown",
   "metadata": {},
   "source": [
    "Above we can see the number of remaining features by examining the shape of X."
   ]
  },
  {
   "cell_type": "markdown",
   "metadata": {},
   "source": [
    "### Finding all NaN rows"
   ]
  },
  {
   "cell_type": "code",
   "execution_count": 115,
   "metadata": {},
   "outputs": [
    {
     "data": {
      "text/plain": [
       "10940"
      ]
     },
     "execution_count": 115,
     "metadata": {},
     "output_type": "execute_result"
    }
   ],
   "source": [
    "nans = lambda X: X[X.isnull().any(axis=1)]\n",
    "len(nans(X))"
   ]
  },
  {
   "cell_type": "markdown",
   "metadata": {},
   "source": [
    "There are still quite a few rows with NaN values.  We will have to impute the numerical features."
   ]
  },
  {
   "cell_type": "markdown",
   "metadata": {},
   "source": [
    "### Numerical Imputer"
   ]
  },
  {
   "cell_type": "code",
   "execution_count": 114,
   "metadata": {},
   "outputs": [
    {
     "name": "stdout",
     "output_type": "stream",
     "text": [
      "Index(['POS', 'AF_ESP', 'AF_EXAC', 'AF_TGP', 'ORIGIN', 'STRAND', 'LoFtool',\n",
      "       'CADD_PHRED', 'CADD_RAW'],\n",
      "      dtype='object')\n"
     ]
    }
   ],
   "source": [
    "numerical_data = X.loc[:, ~X.columns.isin(X[cat_feat])]\n",
    "print(numerical_data.columns)"
   ]
  },
  {
   "cell_type": "code",
   "execution_count": 116,
   "metadata": {
    "scrolled": true
   },
   "outputs": [
    {
     "data": {
      "text/plain": [
       "<matplotlib.axes._subplots.AxesSubplot at 0x1a45f25ba8>"
      ]
     },
     "execution_count": 116,
     "metadata": {},
     "output_type": "execute_result"
    },
    {
     "data": {
      "image/png": "[encoded data removed]",
      "text/plain": [
       "<matplotlib.figure.Figure at 0x1a1b75fc88>"
      ]
     },
     "metadata": {},
     "output_type": "display_data"
    }
   ],
   "source": [
    "sns.distplot(X['AF_ESP'])"
   ]
  },
  {
   "cell_type": "markdown",
   "metadata": {},
   "source": [
    "We can see that these numerical features are not normally distributed.  So we will use the median to impute the data. "
   ]
  },
  {
   "cell_type": "code",
   "execution_count": 117,
   "metadata": {
    "collapsed": true
   },
   "outputs": [],
   "source": [
    "# For numerical data, impute using mean OR median values\n",
    "imp = Imputer(missing_values='NaN', strategy='median', axis=0)\n",
    "imp = imp.fit(numerical_data)\n",
    "\n",
    "# Impute our data\n",
    "X[numerical_data.columns] = imp.transform(numerical_data)"
   ]
  },
  {
   "cell_type": "code",
   "execution_count": 118,
   "metadata": {},
   "outputs": [
    {
     "data": {
      "text/plain": [
       "0"
      ]
     },
     "execution_count": 118,
     "metadata": {},
     "output_type": "execute_result"
    }
   ],
   "source": [
    "nans = lambda X: X[X.isnull().any(axis=1)]\n",
    "len(nans(X))"
   ]
  },
  {
   "cell_type": "markdown",
   "metadata": {},
   "source": [
    "We can see that we no longer have any NaN values in our data.\n",
    "\n",
    "We do not need to impute the categorical features because get_dummies does this for us."
   ]
  },
  {
   "cell_type": "markdown",
   "metadata": {},
   "source": [
    "### VarianceThreshold"
   ]
  },
  {
   "cell_type": "code",
   "execution_count": 119,
   "metadata": {
    "scrolled": true
   },
   "outputs": [
    {
     "data": {
      "text/html": [
       "<div>\n",
       "<style>\n",
       "    .dataframe thead tr:only-child th {\n",
       "        text-align: right;\n",
       "    }\n",
       "\n",
       "    .dataframe thead th {\n",
       "        text-align: left;\n",
       "    }\n",
       "\n",
       "    .dataframe tbody tr th {\n",
       "        vertical-align: top;\n",
       "    }\n",
       "</style>\n",
       "<table border=\"1\" class=\"dataframe\">\n",
       "  <thead>\n",
       "    <tr style=\"text-align: right;\">\n",
       "      <th></th>\n",
       "      <th>POS</th>\n",
       "      <th>ORIGIN</th>\n",
       "      <th>STRAND</th>\n",
       "      <th>LoFtool</th>\n",
       "      <th>CADD_PHRED</th>\n",
       "      <th>CADD_RAW</th>\n",
       "      <th>CHROM_1</th>\n",
       "      <th>CHROM_2</th>\n",
       "      <th>CHROM_5</th>\n",
       "      <th>CHROM_11</th>\n",
       "      <th>...</th>\n",
       "      <th>MC_SO:0001627|intron_variant</th>\n",
       "      <th>Allele_A</th>\n",
       "      <th>Allele_C</th>\n",
       "      <th>Allele_G</th>\n",
       "      <th>Allele_T</th>\n",
       "      <th>Consequence_missense_variant</th>\n",
       "      <th>IMPACT_HIGH</th>\n",
       "      <th>IMPACT_LOW</th>\n",
       "      <th>IMPACT_MODERATE</th>\n",
       "      <th>IMPACT_MODIFIER</th>\n",
       "    </tr>\n",
       "  </thead>\n",
       "  <tbody>\n",
       "    <tr>\n",
       "      <th>0</th>\n",
       "      <td>955563.0</td>\n",
       "      <td>1.0</td>\n",
       "      <td>1.0</td>\n",
       "      <td>0.421</td>\n",
       "      <td>11.390</td>\n",
       "      <td>1.133255</td>\n",
       "      <td>1</td>\n",
       "      <td>0</td>\n",
       "      <td>0</td>\n",
       "      <td>0</td>\n",
       "      <td>...</td>\n",
       "      <td>0</td>\n",
       "      <td>0</td>\n",
       "      <td>1</td>\n",
       "      <td>0</td>\n",
       "      <td>0</td>\n",
       "      <td>1</td>\n",
       "      <td>0</td>\n",
       "      <td>0</td>\n",
       "      <td>1</td>\n",
       "      <td>0</td>\n",
       "    </tr>\n",
       "    <tr>\n",
       "      <th>1</th>\n",
       "      <td>955597.0</td>\n",
       "      <td>1.0</td>\n",
       "      <td>1.0</td>\n",
       "      <td>0.421</td>\n",
       "      <td>8.150</td>\n",
       "      <td>0.599088</td>\n",
       "      <td>1</td>\n",
       "      <td>0</td>\n",
       "      <td>0</td>\n",
       "      <td>0</td>\n",
       "      <td>...</td>\n",
       "      <td>0</td>\n",
       "      <td>0</td>\n",
       "      <td>0</td>\n",
       "      <td>0</td>\n",
       "      <td>1</td>\n",
       "      <td>0</td>\n",
       "      <td>0</td>\n",
       "      <td>1</td>\n",
       "      <td>0</td>\n",
       "      <td>0</td>\n",
       "    </tr>\n",
       "    <tr>\n",
       "      <th>2</th>\n",
       "      <td>955619.0</td>\n",
       "      <td>1.0</td>\n",
       "      <td>1.0</td>\n",
       "      <td>0.421</td>\n",
       "      <td>3.288</td>\n",
       "      <td>0.069819</td>\n",
       "      <td>1</td>\n",
       "      <td>0</td>\n",
       "      <td>0</td>\n",
       "      <td>0</td>\n",
       "      <td>...</td>\n",
       "      <td>0</td>\n",
       "      <td>0</td>\n",
       "      <td>1</td>\n",
       "      <td>0</td>\n",
       "      <td>0</td>\n",
       "      <td>1</td>\n",
       "      <td>0</td>\n",
       "      <td>0</td>\n",
       "      <td>1</td>\n",
       "      <td>0</td>\n",
       "    </tr>\n",
       "    <tr>\n",
       "      <th>3</th>\n",
       "      <td>957640.0</td>\n",
       "      <td>1.0</td>\n",
       "      <td>1.0</td>\n",
       "      <td>0.421</td>\n",
       "      <td>12.560</td>\n",
       "      <td>1.356499</td>\n",
       "      <td>1</td>\n",
       "      <td>0</td>\n",
       "      <td>0</td>\n",
       "      <td>0</td>\n",
       "      <td>...</td>\n",
       "      <td>0</td>\n",
       "      <td>0</td>\n",
       "      <td>0</td>\n",
       "      <td>0</td>\n",
       "      <td>1</td>\n",
       "      <td>0</td>\n",
       "      <td>0</td>\n",
       "      <td>1</td>\n",
       "      <td>0</td>\n",
       "      <td>0</td>\n",
       "    </tr>\n",
       "    <tr>\n",
       "      <th>4</th>\n",
       "      <td>976059.0</td>\n",
       "      <td>1.0</td>\n",
       "      <td>1.0</td>\n",
       "      <td>0.421</td>\n",
       "      <td>17.740</td>\n",
       "      <td>2.234711</td>\n",
       "      <td>1</td>\n",
       "      <td>0</td>\n",
       "      <td>0</td>\n",
       "      <td>0</td>\n",
       "      <td>...</td>\n",
       "      <td>0</td>\n",
       "      <td>0</td>\n",
       "      <td>0</td>\n",
       "      <td>0</td>\n",
       "      <td>1</td>\n",
       "      <td>0</td>\n",
       "      <td>0</td>\n",
       "      <td>1</td>\n",
       "      <td>0</td>\n",
       "      <td>0</td>\n",
       "    </tr>\n",
       "  </tbody>\n",
       "</table>\n",
       "<p>5 rows × 33 columns</p>\n",
       "</div>"
      ],
      "text/plain": [
       "        POS  ORIGIN  STRAND  LoFtool  CADD_PHRED  CADD_RAW  CHROM_1  CHROM_2  \\\n",
       "0  955563.0     1.0     1.0    0.421      11.390  1.133255        1        0   \n",
       "1  955597.0     1.0     1.0    0.421       8.150  0.599088        1        0   \n",
       "2  955619.0     1.0     1.0    0.421       3.288  0.069819        1        0   \n",
       "3  957640.0     1.0     1.0    0.421      12.560  1.356499        1        0   \n",
       "4  976059.0     1.0     1.0    0.421      17.740  2.234711        1        0   \n",
       "\n",
       "   CHROM_5  CHROM_11       ...         MC_SO:0001627|intron_variant  Allele_A  \\\n",
       "0        0         0       ...                                    0         0   \n",
       "1        0         0       ...                                    0         0   \n",
       "2        0         0       ...                                    0         0   \n",
       "3        0         0       ...                                    0         0   \n",
       "4        0         0       ...                                    0         0   \n",
       "\n",
       "   Allele_C  Allele_G  Allele_T  Consequence_missense_variant  IMPACT_HIGH  \\\n",
       "0         1         0         0                             1            0   \n",
       "1         0         0         1                             0            0   \n",
       "2         1         0         0                             1            0   \n",
       "3         0         0         1                             0            0   \n",
       "4         0         0         1                             0            0   \n",
       "\n",
       "   IMPACT_LOW  IMPACT_MODERATE  IMPACT_MODIFIER  \n",
       "0           0                1                0  \n",
       "1           1                0                0  \n",
       "2           0                1                0  \n",
       "3           1                0                0  \n",
       "4           1                0                0  \n",
       "\n",
       "[5 rows x 33 columns]"
      ]
     },
     "execution_count": 119,
     "metadata": {},
     "output_type": "execute_result"
    }
   ],
   "source": [
    "# Removes all low-variance features\n",
    "def variance_threshold_selector(data, threshold=0.05):\n",
    "    selector = VarianceThreshold(threshold)\n",
    "    selector.fit(data)\n",
    "    return data[data.columns[selector.get_support(indices=True)]]\n",
    "\n",
    "vt_to_keep = variance_threshold_selector(X)\n",
    "\n",
    "vt_to_keep.head()"
   ]
  },
  {
   "cell_type": "code",
   "execution_count": 122,
   "metadata": {},
   "outputs": [],
   "source": [
    "# X = X.loc[:, ~X.columns.isin(vt_to_drop)]\n",
    "X = X[vt_to_keep.columns]"
   ]
  },
  {
   "cell_type": "markdown",
   "metadata": {},
   "source": [
    "Variables with low variance really aren’t beneficial to our model."
   ]
  },
  {
   "cell_type": "markdown",
   "metadata": {},
   "source": [
    "### Display correlation Matrix to identify features that need to be dropped"
   ]
  },
  {
   "cell_type": "code",
   "execution_count": 124,
   "metadata": {},
   "outputs": [
    {
     "data": {
      "text/html": [
       "<div>\n",
       "<style>\n",
       "    .dataframe thead tr:only-child th {\n",
       "        text-align: right;\n",
       "    }\n",
       "\n",
       "    .dataframe thead th {\n",
       "        text-align: left;\n",
       "    }\n",
       "\n",
       "    .dataframe tbody tr th {\n",
       "        vertical-align: top;\n",
       "    }\n",
       "</style>\n",
       "<table border=\"1\" class=\"dataframe\">\n",
       "  <thead>\n",
       "    <tr style=\"text-align: right;\">\n",
       "      <th></th>\n",
       "      <th>POS</th>\n",
       "      <th>ORIGIN</th>\n",
       "      <th>STRAND</th>\n",
       "      <th>LoFtool</th>\n",
       "      <th>CADD_PHRED</th>\n",
       "      <th>CADD_RAW</th>\n",
       "      <th>CHROM_1</th>\n",
       "      <th>CHROM_2</th>\n",
       "      <th>CHROM_5</th>\n",
       "      <th>CHROM_11</th>\n",
       "      <th>...</th>\n",
       "      <th>MC_SO:0001627|intron_variant</th>\n",
       "      <th>Allele_A</th>\n",
       "      <th>Allele_C</th>\n",
       "      <th>Allele_G</th>\n",
       "      <th>Allele_T</th>\n",
       "      <th>Consequence_missense_variant</th>\n",
       "      <th>IMPACT_HIGH</th>\n",
       "      <th>IMPACT_LOW</th>\n",
       "      <th>IMPACT_MODERATE</th>\n",
       "      <th>IMPACT_MODIFIER</th>\n",
       "    </tr>\n",
       "  </thead>\n",
       "  <tbody>\n",
       "    <tr>\n",
       "      <th>POS</th>\n",
       "      <td>1.000000</td>\n",
       "      <td>0.010341</td>\n",
       "      <td>-0.122584</td>\n",
       "      <td>0.258381</td>\n",
       "      <td>-0.004949</td>\n",
       "      <td>-0.008799</td>\n",
       "      <td>0.199746</td>\n",
       "      <td>0.403622</td>\n",
       "      <td>0.109581</td>\n",
       "      <td>-0.006367</td>\n",
       "      <td>...</td>\n",
       "      <td>-0.004403</td>\n",
       "      <td>0.000109</td>\n",
       "      <td>0.009060</td>\n",
       "      <td>-0.001598</td>\n",
       "      <td>0.003403</td>\n",
       "      <td>0.005505</td>\n",
       "      <td>-0.031125</td>\n",
       "      <td>0.021021</td>\n",
       "      <td>0.000822</td>\n",
       "      <td>-0.007929</td>\n",
       "    </tr>\n",
       "    <tr>\n",
       "      <th>ORIGIN</th>\n",
       "      <td>0.010341</td>\n",
       "      <td>1.000000</td>\n",
       "      <td>-0.009006</td>\n",
       "      <td>-0.021575</td>\n",
       "      <td>0.046219</td>\n",
       "      <td>0.052163</td>\n",
       "      <td>0.001611</td>\n",
       "      <td>-0.000724</td>\n",
       "      <td>-0.000823</td>\n",
       "      <td>-0.006612</td>\n",
       "      <td>...</td>\n",
       "      <td>-0.012429</td>\n",
       "      <td>0.005893</td>\n",
       "      <td>-0.008518</td>\n",
       "      <td>-0.004381</td>\n",
       "      <td>-0.002587</td>\n",
       "      <td>0.008358</td>\n",
       "      <td>0.044327</td>\n",
       "      <td>-0.028777</td>\n",
       "      <td>0.010887</td>\n",
       "      <td>-0.012201</td>\n",
       "    </tr>\n",
       "    <tr>\n",
       "      <th>STRAND</th>\n",
       "      <td>-0.122584</td>\n",
       "      <td>-0.009006</td>\n",
       "      <td>1.000000</td>\n",
       "      <td>-0.148790</td>\n",
       "      <td>0.014293</td>\n",
       "      <td>0.009340</td>\n",
       "      <td>-0.037417</td>\n",
       "      <td>-0.122106</td>\n",
       "      <td>0.117946</td>\n",
       "      <td>0.083352</td>\n",
       "      <td>...</td>\n",
       "      <td>-0.002026</td>\n",
       "      <td>-0.038894</td>\n",
       "      <td>-0.041034</td>\n",
       "      <td>0.076873</td>\n",
       "      <td>0.009328</td>\n",
       "      <td>-0.000550</td>\n",
       "      <td>-0.000787</td>\n",
       "      <td>0.002695</td>\n",
       "      <td>0.000314</td>\n",
       "      <td>-0.004366</td>\n",
       "    </tr>\n",
       "    <tr>\n",
       "      <th>LoFtool</th>\n",
       "      <td>0.258381</td>\n",
       "      <td>-0.021575</td>\n",
       "      <td>-0.148790</td>\n",
       "      <td>1.000000</td>\n",
       "      <td>-0.032411</td>\n",
       "      <td>-0.033348</td>\n",
       "      <td>-0.042282</td>\n",
       "      <td>0.186457</td>\n",
       "      <td>0.015560</td>\n",
       "      <td>0.121785</td>\n",
       "      <td>...</td>\n",
       "      <td>-0.018733</td>\n",
       "      <td>-0.029711</td>\n",
       "      <td>0.039009</td>\n",
       "      <td>0.017905</td>\n",
       "      <td>-0.013260</td>\n",
       "      <td>0.029406</td>\n",
       "      <td>-0.004316</td>\n",
       "      <td>-0.009589</td>\n",
       "      <td>0.026423</td>\n",
       "      <td>-0.027059</td>\n",
       "    </tr>\n",
       "    <tr>\n",
       "      <th>CADD_PHRED</th>\n",
       "      <td>-0.004949</td>\n",
       "      <td>0.046219</td>\n",
       "      <td>0.014293</td>\n",
       "      <td>-0.032411</td>\n",
       "      <td>1.000000</td>\n",
       "      <td>0.954832</td>\n",
       "      <td>0.013997</td>\n",
       "      <td>0.003979</td>\n",
       "      <td>-0.001933</td>\n",
       "      <td>0.043881</td>\n",
       "      <td>...</td>\n",
       "      <td>-0.289163</td>\n",
       "      <td>0.063055</td>\n",
       "      <td>-0.166418</td>\n",
       "      <td>-0.113621</td>\n",
       "      <td>0.139637</td>\n",
       "      <td>0.351695</td>\n",
       "      <td>0.376313</td>\n",
       "      <td>-0.447707</td>\n",
       "      <td>0.366433</td>\n",
       "      <td>-0.250787</td>\n",
       "    </tr>\n",
       "    <tr>\n",
       "      <th>CADD_RAW</th>\n",
       "      <td>-0.008799</td>\n",
       "      <td>0.052163</td>\n",
       "      <td>0.009340</td>\n",
       "      <td>-0.033348</td>\n",
       "      <td>0.954832</td>\n",
       "      <td>1.000000</td>\n",
       "      <td>0.013964</td>\n",
       "      <td>-0.004036</td>\n",
       "      <td>0.000534</td>\n",
       "      <td>0.047204</td>\n",
       "      <td>...</td>\n",
       "      <td>-0.243923</td>\n",
       "      <td>0.070973</td>\n",
       "      <td>-0.146230</td>\n",
       "      <td>-0.109007</td>\n",
       "      <td>0.115297</td>\n",
       "      <td>0.262472</td>\n",
       "      <td>0.470595</td>\n",
       "      <td>-0.422492</td>\n",
       "      <td>0.269884</td>\n",
       "      <td>-0.208329</td>\n",
       "    </tr>\n",
       "    <tr>\n",
       "      <th>CHROM_1</th>\n",
       "      <td>0.199746</td>\n",
       "      <td>0.001611</td>\n",
       "      <td>-0.037417</td>\n",
       "      <td>-0.042282</td>\n",
       "      <td>0.013997</td>\n",
       "      <td>0.013964</td>\n",
       "      <td>1.000000</td>\n",
       "      <td>-0.105889</td>\n",
       "      <td>-0.065886</td>\n",
       "      <td>-0.076743</td>\n",
       "      <td>...</td>\n",
       "      <td>0.015639</td>\n",
       "      <td>0.007160</td>\n",
       "      <td>-0.001187</td>\n",
       "      <td>-0.021083</td>\n",
       "      <td>0.012936</td>\n",
       "      <td>-0.005649</td>\n",
       "      <td>-0.007176</td>\n",
       "      <td>0.007269</td>\n",
       "      <td>-0.007203</td>\n",
       "      <td>0.007302</td>\n",
       "    </tr>\n",
       "    <tr>\n",
       "      <th>CHROM_2</th>\n",
       "      <td>0.403622</td>\n",
       "      <td>-0.000724</td>\n",
       "      <td>-0.122106</td>\n",
       "      <td>0.186457</td>\n",
       "      <td>0.003979</td>\n",
       "      <td>-0.004036</td>\n",
       "      <td>-0.105889</td>\n",
       "      <td>1.000000</td>\n",
       "      <td>-0.095132</td>\n",
       "      <td>-0.110809</td>\n",
       "      <td>...</td>\n",
       "      <td>-0.028737</td>\n",
       "      <td>-0.011292</td>\n",
       "      <td>0.014122</td>\n",
       "      <td>0.012929</td>\n",
       "      <td>-0.004231</td>\n",
       "      <td>0.038108</td>\n",
       "      <td>-0.020912</td>\n",
       "      <td>-0.015183</td>\n",
       "      <td>0.036511</td>\n",
       "      <td>-0.020248</td>\n",
       "    </tr>\n",
       "    <tr>\n",
       "      <th>CHROM_5</th>\n",
       "      <td>0.109581</td>\n",
       "      <td>-0.000823</td>\n",
       "      <td>0.117946</td>\n",
       "      <td>0.015560</td>\n",
       "      <td>-0.001933</td>\n",
       "      <td>0.000534</td>\n",
       "      <td>-0.065886</td>\n",
       "      <td>-0.095132</td>\n",
       "      <td>1.000000</td>\n",
       "      <td>-0.068947</td>\n",
       "      <td>...</td>\n",
       "      <td>-0.020896</td>\n",
       "      <td>-0.019389</td>\n",
       "      <td>-0.000967</td>\n",
       "      <td>0.042566</td>\n",
       "      <td>-0.015235</td>\n",
       "      <td>0.011463</td>\n",
       "      <td>0.004223</td>\n",
       "      <td>-0.000490</td>\n",
       "      <td>0.011217</td>\n",
       "      <td>-0.023139</td>\n",
       "    </tr>\n",
       "    <tr>\n",
       "      <th>CHROM_11</th>\n",
       "      <td>-0.006367</td>\n",
       "      <td>-0.006612</td>\n",
       "      <td>0.083352</td>\n",
       "      <td>0.121785</td>\n",
       "      <td>0.043881</td>\n",
       "      <td>0.047204</td>\n",
       "      <td>-0.076743</td>\n",
       "      <td>-0.110809</td>\n",
       "      <td>-0.068947</td>\n",
       "      <td>1.000000</td>\n",
       "      <td>...</td>\n",
       "      <td>-0.005134</td>\n",
       "      <td>-0.014104</td>\n",
       "      <td>0.000164</td>\n",
       "      <td>0.017053</td>\n",
       "      <td>-0.009525</td>\n",
       "      <td>-0.010358</td>\n",
       "      <td>0.059553</td>\n",
       "      <td>-0.020470</td>\n",
       "      <td>-0.008884</td>\n",
       "      <td>-0.005007</td>\n",
       "    </tr>\n",
       "    <tr>\n",
       "      <th>CHROM_17</th>\n",
       "      <td>-0.189223</td>\n",
       "      <td>-0.007932</td>\n",
       "      <td>-0.083800</td>\n",
       "      <td>-0.091613</td>\n",
       "      <td>0.013041</td>\n",
       "      <td>0.012929</td>\n",
       "      <td>-0.081337</td>\n",
       "      <td>-0.117441</td>\n",
       "      <td>-0.073073</td>\n",
       "      <td>-0.085115</td>\n",
       "      <td>...</td>\n",
       "      <td>0.005155</td>\n",
       "      <td>-0.009609</td>\n",
       "      <td>0.027534</td>\n",
       "      <td>-0.000740</td>\n",
       "      <td>-0.016322</td>\n",
       "      <td>0.013835</td>\n",
       "      <td>0.022232</td>\n",
       "      <td>-0.029651</td>\n",
       "      <td>0.016024</td>\n",
       "      <td>0.000620</td>\n",
       "    </tr>\n",
       "    <tr>\n",
       "      <th>REF_A</th>\n",
       "      <td>0.008344</td>\n",
       "      <td>-0.002620</td>\n",
       "      <td>0.084427</td>\n",
       "      <td>0.022992</td>\n",
       "      <td>-0.139935</td>\n",
       "      <td>-0.125550</td>\n",
       "      <td>-0.018791</td>\n",
       "      <td>0.009397</td>\n",
       "      <td>0.047899</td>\n",
       "      <td>0.019456</td>\n",
       "      <td>...</td>\n",
       "      <td>0.017176</td>\n",
       "      <td>-0.278573</td>\n",
       "      <td>-0.008791</td>\n",
       "      <td>0.587959</td>\n",
       "      <td>-0.164275</td>\n",
       "      <td>0.046655</td>\n",
       "      <td>-0.059272</td>\n",
       "      <td>-0.014781</td>\n",
       "      <td>0.040378</td>\n",
       "      <td>0.007805</td>\n",
       "    </tr>\n",
       "    <tr>\n",
       "      <th>REF_C</th>\n",
       "      <td>-0.005175</td>\n",
       "      <td>-0.003326</td>\n",
       "      <td>0.006302</td>\n",
       "      <td>-0.022567</td>\n",
       "      <td>0.166312</td>\n",
       "      <td>0.130640</td>\n",
       "      <td>0.012841</td>\n",
       "      <td>-0.003046</td>\n",
       "      <td>-0.018144</td>\n",
       "      <td>-0.011086</td>\n",
       "      <td>...</td>\n",
       "      <td>-0.036336</td>\n",
       "      <td>-0.295403</td>\n",
       "      <td>-0.315161</td>\n",
       "      <td>-0.074736</td>\n",
       "      <td>0.677756</td>\n",
       "      <td>0.023462</td>\n",
       "      <td>-0.038900</td>\n",
       "      <td>0.025768</td>\n",
       "      <td>0.009259</td>\n",
       "      <td>-0.023769</td>\n",
       "    </tr>\n",
       "    <tr>\n",
       "      <th>REF_G</th>\n",
       "      <td>-0.008914</td>\n",
       "      <td>0.004618</td>\n",
       "      <td>-0.030990</td>\n",
       "      <td>-0.032604</td>\n",
       "      <td>0.023686</td>\n",
       "      <td>0.038259</td>\n",
       "      <td>0.006412</td>\n",
       "      <td>-0.013088</td>\n",
       "      <td>-0.025718</td>\n",
       "      <td>-0.011207</td>\n",
       "      <td>...</td>\n",
       "      <td>-0.034630</td>\n",
       "      <td>0.682969</td>\n",
       "      <td>-0.073262</td>\n",
       "      <td>-0.321352</td>\n",
       "      <td>-0.291857</td>\n",
       "      <td>0.006824</td>\n",
       "      <td>-0.035849</td>\n",
       "      <td>0.034373</td>\n",
       "      <td>-0.004315</td>\n",
       "      <td>-0.016834</td>\n",
       "    </tr>\n",
       "    <tr>\n",
       "      <th>REF_T</th>\n",
       "      <td>0.023565</td>\n",
       "      <td>-0.007661</td>\n",
       "      <td>-0.051144</td>\n",
       "      <td>0.053027</td>\n",
       "      <td>-0.147904</td>\n",
       "      <td>-0.129229</td>\n",
       "      <td>-0.003924</td>\n",
       "      <td>0.022848</td>\n",
       "      <td>0.008074</td>\n",
       "      <td>-0.002053</td>\n",
       "      <td>...</td>\n",
       "      <td>0.035914</td>\n",
       "      <td>-0.152598</td>\n",
       "      <td>0.582153</td>\n",
       "      <td>-0.014944</td>\n",
       "      <td>-0.273352</td>\n",
       "      <td>0.017436</td>\n",
       "      <td>-0.045607</td>\n",
       "      <td>-0.002753</td>\n",
       "      <td>0.011711</td>\n",
       "      <td>0.026083</td>\n",
       "    </tr>\n",
       "    <tr>\n",
       "      <th>ALT_A</th>\n",
       "      <td>-0.001230</td>\n",
       "      <td>0.006929</td>\n",
       "      <td>-0.037090</td>\n",
       "      <td>-0.031078</td>\n",
       "      <td>0.067779</td>\n",
       "      <td>0.074191</td>\n",
       "      <td>0.007426</td>\n",
       "      <td>-0.013449</td>\n",
       "      <td>-0.018794</td>\n",
       "      <td>-0.012647</td>\n",
       "      <td>...</td>\n",
       "      <td>-0.026992</td>\n",
       "      <td>0.968190</td>\n",
       "      <td>-0.298006</td>\n",
       "      <td>-0.308493</td>\n",
       "      <td>-0.445726</td>\n",
       "      <td>-0.021578</td>\n",
       "      <td>0.000526</td>\n",
       "      <td>0.040083</td>\n",
       "      <td>-0.028601</td>\n",
       "      <td>-0.016850</td>\n",
       "    </tr>\n",
       "    <tr>\n",
       "      <th>ALT_C</th>\n",
       "      <td>0.004383</td>\n",
       "      <td>-0.005351</td>\n",
       "      <td>-0.041008</td>\n",
       "      <td>0.037114</td>\n",
       "      <td>-0.150129</td>\n",
       "      <td>-0.131645</td>\n",
       "      <td>-0.001742</td>\n",
       "      <td>0.009793</td>\n",
       "      <td>-0.001353</td>\n",
       "      <td>0.005288</td>\n",
       "      <td>...</td>\n",
       "      <td>0.025504</td>\n",
       "      <td>-0.304537</td>\n",
       "      <td>0.953931</td>\n",
       "      <td>-0.212236</td>\n",
       "      <td>-0.306649</td>\n",
       "      <td>0.023908</td>\n",
       "      <td>-0.016626</td>\n",
       "      <td>-0.032670</td>\n",
       "      <td>0.026643</td>\n",
       "      <td>0.022830</td>\n",
       "    </tr>\n",
       "    <tr>\n",
       "      <th>ALT_G</th>\n",
       "      <td>-0.001900</td>\n",
       "      <td>-0.003378</td>\n",
       "      <td>0.074429</td>\n",
       "      <td>0.017705</td>\n",
       "      <td>-0.111181</td>\n",
       "      <td>-0.107058</td>\n",
       "      <td>-0.022122</td>\n",
       "      <td>0.012520</td>\n",
       "      <td>0.043140</td>\n",
       "      <td>0.017194</td>\n",
       "      <td>...</td>\n",
       "      <td>0.021112</td>\n",
       "      <td>-0.310225</td>\n",
       "      <td>-0.208850</td>\n",
       "      <td>0.969924</td>\n",
       "      <td>-0.312375</td>\n",
       "      <td>0.050888</td>\n",
       "      <td>-0.053652</td>\n",
       "      <td>-0.028659</td>\n",
       "      <td>0.049386</td>\n",
       "      <td>0.009847</td>\n",
       "    </tr>\n",
       "    <tr>\n",
       "      <th>ALT_T</th>\n",
       "      <td>0.002194</td>\n",
       "      <td>-0.001144</td>\n",
       "      <td>0.007518</td>\n",
       "      <td>-0.013454</td>\n",
       "      <td>0.143910</td>\n",
       "      <td>0.119086</td>\n",
       "      <td>0.013182</td>\n",
       "      <td>-0.005322</td>\n",
       "      <td>-0.013616</td>\n",
       "      <td>-0.009985</td>\n",
       "      <td>...</td>\n",
       "      <td>-0.031116</td>\n",
       "      <td>-0.445898</td>\n",
       "      <td>-0.300188</td>\n",
       "      <td>-0.310752</td>\n",
       "      <td>0.970628</td>\n",
       "      <td>-0.004995</td>\n",
       "      <td>-0.010021</td>\n",
       "      <td>0.031563</td>\n",
       "      <td>-0.010454</td>\n",
       "      <td>-0.025134</td>\n",
       "    </tr>\n",
       "    <tr>\n",
       "      <th>CLNDISDB_MedGen:CN169374</th>\n",
       "      <td>0.054812</td>\n",
       "      <td>-0.013733</td>\n",
       "      <td>-0.031498</td>\n",
       "      <td>0.033038</td>\n",
       "      <td>-0.090316</td>\n",
       "      <td>-0.086369</td>\n",
       "      <td>0.020139</td>\n",
       "      <td>0.014228</td>\n",
       "      <td>-0.008678</td>\n",
       "      <td>-0.028621</td>\n",
       "      <td>...</td>\n",
       "      <td>0.111829</td>\n",
       "      <td>-0.000629</td>\n",
       "      <td>0.002535</td>\n",
       "      <td>-0.006228</td>\n",
       "      <td>0.010208</td>\n",
       "      <td>-0.048313</td>\n",
       "      <td>-0.076266</td>\n",
       "      <td>0.011022</td>\n",
       "      <td>-0.048396</td>\n",
       "      <td>0.138769</td>\n",
       "    </tr>\n",
       "    <tr>\n",
       "      <th>CLNDN_not_specified</th>\n",
       "      <td>0.054812</td>\n",
       "      <td>-0.013733</td>\n",
       "      <td>-0.031498</td>\n",
       "      <td>0.033038</td>\n",
       "      <td>-0.090316</td>\n",
       "      <td>-0.086369</td>\n",
       "      <td>0.020139</td>\n",
       "      <td>0.014228</td>\n",
       "      <td>-0.008678</td>\n",
       "      <td>-0.028621</td>\n",
       "      <td>...</td>\n",
       "      <td>0.111829</td>\n",
       "      <td>-0.000629</td>\n",
       "      <td>0.002535</td>\n",
       "      <td>-0.006228</td>\n",
       "      <td>0.010208</td>\n",
       "      <td>-0.048313</td>\n",
       "      <td>-0.076266</td>\n",
       "      <td>0.011022</td>\n",
       "      <td>-0.048396</td>\n",
       "      <td>0.138769</td>\n",
       "    </tr>\n",
       "    <tr>\n",
       "      <th>CLNVC_single_nucleotide_variant</th>\n",
       "      <td>0.022069</td>\n",
       "      <td>-0.016250</td>\n",
       "      <td>0.001431</td>\n",
       "      <td>0.004151</td>\n",
       "      <td>-0.060210</td>\n",
       "      <td>-0.054330</td>\n",
       "      <td>0.004341</td>\n",
       "      <td>0.014317</td>\n",
       "      <td>0.000377</td>\n",
       "      <td>-0.026252</td>\n",
       "      <td>...</td>\n",
       "      <td>-0.099950</td>\n",
       "      <td>0.132200</td>\n",
       "      <td>0.093995</td>\n",
       "      <td>0.098529</td>\n",
       "      <td>0.138074</td>\n",
       "      <td>0.227704</td>\n",
       "      <td>-0.425647</td>\n",
       "      <td>0.126268</td>\n",
       "      <td>0.136975</td>\n",
       "      <td>-0.061770</td>\n",
       "    </tr>\n",
       "    <tr>\n",
       "      <th>MC_SO:0001583|missense_variant</th>\n",
       "      <td>0.008146</td>\n",
       "      <td>0.020126</td>\n",
       "      <td>0.034285</td>\n",
       "      <td>0.046276</td>\n",
       "      <td>0.281877</td>\n",
       "      <td>0.208015</td>\n",
       "      <td>-0.017147</td>\n",
       "      <td>0.031349</td>\n",
       "      <td>0.033218</td>\n",
       "      <td>0.011094</td>\n",
       "      <td>...</td>\n",
       "      <td>-0.267217</td>\n",
       "      <td>-0.013278</td>\n",
       "      <td>0.030828</td>\n",
       "      <td>0.063529</td>\n",
       "      <td>0.008090</td>\n",
       "      <td>0.713036</td>\n",
       "      <td>-0.197650</td>\n",
       "      <td>-0.519487</td>\n",
       "      <td>0.717232</td>\n",
       "      <td>-0.223459</td>\n",
       "    </tr>\n",
       "    <tr>\n",
       "      <th>MC_SO:0001627|intron_variant</th>\n",
       "      <td>-0.004403</td>\n",
       "      <td>-0.012429</td>\n",
       "      <td>-0.002026</td>\n",
       "      <td>-0.018733</td>\n",
       "      <td>-0.289163</td>\n",
       "      <td>-0.243923</td>\n",
       "      <td>0.015639</td>\n",
       "      <td>-0.028737</td>\n",
       "      <td>-0.020896</td>\n",
       "      <td>-0.005134</td>\n",
       "      <td>...</td>\n",
       "      <td>1.000000</td>\n",
       "      <td>-0.029147</td>\n",
       "      <td>0.020332</td>\n",
       "      <td>0.012103</td>\n",
       "      <td>-0.035320</td>\n",
       "      <td>-0.348666</td>\n",
       "      <td>-0.093798</td>\n",
       "      <td>0.085153</td>\n",
       "      <td>-0.361405</td>\n",
       "      <td>0.589508</td>\n",
       "    </tr>\n",
       "    <tr>\n",
       "      <th>Allele_A</th>\n",
       "      <td>0.000109</td>\n",
       "      <td>0.005893</td>\n",
       "      <td>-0.038894</td>\n",
       "      <td>-0.029711</td>\n",
       "      <td>0.063055</td>\n",
       "      <td>0.070973</td>\n",
       "      <td>0.007160</td>\n",
       "      <td>-0.011292</td>\n",
       "      <td>-0.019389</td>\n",
       "      <td>-0.014104</td>\n",
       "      <td>...</td>\n",
       "      <td>-0.029147</td>\n",
       "      <td>1.000000</td>\n",
       "      <td>-0.293685</td>\n",
       "      <td>-0.304020</td>\n",
       "      <td>-0.439263</td>\n",
       "      <td>-0.008659</td>\n",
       "      <td>-0.024169</td>\n",
       "      <td>0.050329</td>\n",
       "      <td>-0.025003</td>\n",
       "      <td>-0.017579</td>\n",
       "    </tr>\n",
       "    <tr>\n",
       "      <th>Allele_C</th>\n",
       "      <td>0.009060</td>\n",
       "      <td>-0.008518</td>\n",
       "      <td>-0.041034</td>\n",
       "      <td>0.039009</td>\n",
       "      <td>-0.166418</td>\n",
       "      <td>-0.146230</td>\n",
       "      <td>-0.001187</td>\n",
       "      <td>0.014122</td>\n",
       "      <td>-0.000967</td>\n",
       "      <td>0.000164</td>\n",
       "      <td>...</td>\n",
       "      <td>0.020332</td>\n",
       "      <td>-0.293685</td>\n",
       "      <td>1.000000</td>\n",
       "      <td>-0.204673</td>\n",
       "      <td>-0.295721</td>\n",
       "      <td>0.051132</td>\n",
       "      <td>-0.070006</td>\n",
       "      <td>-0.017249</td>\n",
       "      <td>0.042277</td>\n",
       "      <td>0.018539</td>\n",
       "    </tr>\n",
       "    <tr>\n",
       "      <th>Allele_G</th>\n",
       "      <td>-0.001598</td>\n",
       "      <td>-0.004381</td>\n",
       "      <td>0.076873</td>\n",
       "      <td>0.017905</td>\n",
       "      <td>-0.113621</td>\n",
       "      <td>-0.109007</td>\n",
       "      <td>-0.021083</td>\n",
       "      <td>0.012929</td>\n",
       "      <td>0.042566</td>\n",
       "      <td>0.017053</td>\n",
       "      <td>...</td>\n",
       "      <td>0.012103</td>\n",
       "      <td>-0.304020</td>\n",
       "      <td>-0.204673</td>\n",
       "      <td>1.000000</td>\n",
       "      <td>-0.306128</td>\n",
       "      <td>0.066565</td>\n",
       "      <td>-0.076095</td>\n",
       "      <td>-0.021332</td>\n",
       "      <td>0.056105</td>\n",
       "      <td>0.006363</td>\n",
       "    </tr>\n",
       "    <tr>\n",
       "      <th>Allele_T</th>\n",
       "      <td>0.003403</td>\n",
       "      <td>-0.002587</td>\n",
       "      <td>0.009328</td>\n",
       "      <td>-0.013260</td>\n",
       "      <td>0.139637</td>\n",
       "      <td>0.115297</td>\n",
       "      <td>0.012936</td>\n",
       "      <td>-0.004231</td>\n",
       "      <td>-0.015235</td>\n",
       "      <td>-0.009525</td>\n",
       "      <td>...</td>\n",
       "      <td>-0.035320</td>\n",
       "      <td>-0.439263</td>\n",
       "      <td>-0.295721</td>\n",
       "      <td>-0.306128</td>\n",
       "      <td>1.000000</td>\n",
       "      <td>0.008400</td>\n",
       "      <td>-0.027678</td>\n",
       "      <td>0.037167</td>\n",
       "      <td>-0.007122</td>\n",
       "      <td>-0.024113</td>\n",
       "    </tr>\n",
       "    <tr>\n",
       "      <th>Consequence_missense_variant</th>\n",
       "      <td>0.005505</td>\n",
       "      <td>0.008358</td>\n",
       "      <td>-0.000550</td>\n",
       "      <td>0.029406</td>\n",
       "      <td>0.351695</td>\n",
       "      <td>0.262472</td>\n",
       "      <td>-0.005649</td>\n",
       "      <td>0.038108</td>\n",
       "      <td>0.011463</td>\n",
       "      <td>-0.010358</td>\n",
       "      <td>...</td>\n",
       "      <td>-0.348666</td>\n",
       "      <td>-0.008659</td>\n",
       "      <td>0.051132</td>\n",
       "      <td>0.066565</td>\n",
       "      <td>0.008400</td>\n",
       "      <td>1.000000</td>\n",
       "      <td>-0.270683</td>\n",
       "      <td>-0.680527</td>\n",
       "      <td>0.947186</td>\n",
       "      <td>-0.295407</td>\n",
       "    </tr>\n",
       "    <tr>\n",
       "      <th>IMPACT_HIGH</th>\n",
       "      <td>-0.031125</td>\n",
       "      <td>0.044327</td>\n",
       "      <td>-0.000787</td>\n",
       "      <td>-0.004316</td>\n",
       "      <td>0.376313</td>\n",
       "      <td>0.470595</td>\n",
       "      <td>-0.007176</td>\n",
       "      <td>-0.020912</td>\n",
       "      <td>0.004223</td>\n",
       "      <td>0.059553</td>\n",
       "      <td>...</td>\n",
       "      <td>-0.093798</td>\n",
       "      <td>-0.024169</td>\n",
       "      <td>-0.070006</td>\n",
       "      <td>-0.076095</td>\n",
       "      <td>-0.027678</td>\n",
       "      <td>-0.270683</td>\n",
       "      <td>1.000000</td>\n",
       "      <td>-0.197681</td>\n",
       "      <td>-0.285776</td>\n",
       "      <td>-0.085810</td>\n",
       "    </tr>\n",
       "    <tr>\n",
       "      <th>IMPACT_LOW</th>\n",
       "      <td>0.021021</td>\n",
       "      <td>-0.028777</td>\n",
       "      <td>0.002695</td>\n",
       "      <td>-0.009589</td>\n",
       "      <td>-0.447707</td>\n",
       "      <td>-0.422492</td>\n",
       "      <td>0.007269</td>\n",
       "      <td>-0.015183</td>\n",
       "      <td>-0.000490</td>\n",
       "      <td>-0.020470</td>\n",
       "      <td>...</td>\n",
       "      <td>0.085153</td>\n",
       "      <td>0.050329</td>\n",
       "      <td>-0.017249</td>\n",
       "      <td>-0.021332</td>\n",
       "      <td>0.037167</td>\n",
       "      <td>-0.680527</td>\n",
       "      <td>-0.197681</td>\n",
       "      <td>1.000000</td>\n",
       "      <td>-0.718472</td>\n",
       "      <td>-0.215737</td>\n",
       "    </tr>\n",
       "    <tr>\n",
       "      <th>IMPACT_MODERATE</th>\n",
       "      <td>0.000822</td>\n",
       "      <td>0.010887</td>\n",
       "      <td>0.000314</td>\n",
       "      <td>0.026423</td>\n",
       "      <td>0.366433</td>\n",
       "      <td>0.269884</td>\n",
       "      <td>-0.007203</td>\n",
       "      <td>0.036511</td>\n",
       "      <td>0.011217</td>\n",
       "      <td>-0.008884</td>\n",
       "      <td>...</td>\n",
       "      <td>-0.361405</td>\n",
       "      <td>-0.025003</td>\n",
       "      <td>0.042277</td>\n",
       "      <td>0.056105</td>\n",
       "      <td>-0.007122</td>\n",
       "      <td>0.947186</td>\n",
       "      <td>-0.285776</td>\n",
       "      <td>-0.718472</td>\n",
       "      <td>1.000000</td>\n",
       "      <td>-0.311878</td>\n",
       "    </tr>\n",
       "    <tr>\n",
       "      <th>IMPACT_MODIFIER</th>\n",
       "      <td>-0.007929</td>\n",
       "      <td>-0.012201</td>\n",
       "      <td>-0.004366</td>\n",
       "      <td>-0.027059</td>\n",
       "      <td>-0.250787</td>\n",
       "      <td>-0.208329</td>\n",
       "      <td>0.007302</td>\n",
       "      <td>-0.020248</td>\n",
       "      <td>-0.023139</td>\n",
       "      <td>-0.005007</td>\n",
       "      <td>...</td>\n",
       "      <td>0.589508</td>\n",
       "      <td>-0.017579</td>\n",
       "      <td>0.018539</td>\n",
       "      <td>0.006363</td>\n",
       "      <td>-0.024113</td>\n",
       "      <td>-0.295407</td>\n",
       "      <td>-0.085810</td>\n",
       "      <td>-0.215737</td>\n",
       "      <td>-0.311878</td>\n",
       "      <td>1.000000</td>\n",
       "    </tr>\n",
       "  </tbody>\n",
       "</table>\n",
       "<p>33 rows × 33 columns</p>\n",
       "</div>"
      ],
      "text/plain": [
       "                                      POS    ORIGIN    STRAND   LoFtool  \\\n",
       "POS                              1.000000  0.010341 -0.122584  0.258381   \n",
       "ORIGIN                           0.010341  1.000000 -0.009006 -0.021575   \n",
       "STRAND                          -0.122584 -0.009006  1.000000 -0.148790   \n",
       "LoFtool                          0.258381 -0.021575 -0.148790  1.000000   \n",
       "CADD_PHRED                      -0.004949  0.046219  0.014293 -0.032411   \n",
       "CADD_RAW                        -0.008799  0.052163  0.009340 -0.033348   \n",
       "CHROM_1                          0.199746  0.001611 -0.037417 -0.042282   \n",
       "CHROM_2                          0.403622 -0.000724 -0.122106  0.186457   \n",
       "CHROM_5                          0.109581 -0.000823  0.117946  0.015560   \n",
       "CHROM_11                        -0.006367 -0.006612  0.083352  0.121785   \n",
       "CHROM_17                        -0.189223 -0.007932 -0.083800 -0.091613   \n",
       "REF_A                            0.008344 -0.002620  0.084427  0.022992   \n",
       "REF_C                           -0.005175 -0.003326  0.006302 -0.022567   \n",
       "REF_G                           -0.008914  0.004618 -0.030990 -0.032604   \n",
       "REF_T                            0.023565 -0.007661 -0.051144  0.053027   \n",
       "ALT_A                           -0.001230  0.006929 -0.037090 -0.031078   \n",
       "ALT_C                            0.004383 -0.005351 -0.041008  0.037114   \n",
       "ALT_G                           -0.001900 -0.003378  0.074429  0.017705   \n",
       "ALT_T                            0.002194 -0.001144  0.007518 -0.013454   \n",
       "CLNDISDB_MedGen:CN169374         0.054812 -0.013733 -0.031498  0.033038   \n",
       "CLNDN_not_specified              0.054812 -0.013733 -0.031498  0.033038   \n",
       "CLNVC_single_nucleotide_variant  0.022069 -0.016250  0.001431  0.004151   \n",
       "MC_SO:0001583|missense_variant   0.008146  0.020126  0.034285  0.046276   \n",
       "MC_SO:0001627|intron_variant    -0.004403 -0.012429 -0.002026 -0.018733   \n",
       "Allele_A                         0.000109  0.005893 -0.038894 -0.029711   \n",
       "Allele_C                         0.009060 -0.008518 -0.041034  0.039009   \n",
       "Allele_G                        -0.001598 -0.004381  0.076873  0.017905   \n",
       "Allele_T                         0.003403 -0.002587  0.009328 -0.013260   \n",
       "Consequence_missense_variant     0.005505  0.008358 -0.000550  0.029406   \n",
       "IMPACT_HIGH                     -0.031125  0.044327 -0.000787 -0.004316   \n",
       "IMPACT_LOW                       0.021021 -0.028777  0.002695 -0.009589   \n",
       "IMPACT_MODERATE                  0.000822  0.010887  0.000314  0.026423   \n",
       "IMPACT_MODIFIER                 -0.007929 -0.012201 -0.004366 -0.027059   \n",
       "\n",
       "                                 CADD_PHRED  CADD_RAW   CHROM_1   CHROM_2  \\\n",
       "POS                               -0.004949 -0.008799  0.199746  0.403622   \n",
       "ORIGIN                             0.046219  0.052163  0.001611 -0.000724   \n",
       "STRAND                             0.014293  0.009340 -0.037417 -0.122106   \n",
       "LoFtool                           -0.032411 -0.033348 -0.042282  0.186457   \n",
       "CADD_PHRED                         1.000000  0.954832  0.013997  0.003979   \n",
       "CADD_RAW                           0.954832  1.000000  0.013964 -0.004036   \n",
       "CHROM_1                            0.013997  0.013964  1.000000 -0.105889   \n",
       "CHROM_2                            0.003979 -0.004036 -0.105889  1.000000   \n",
       "CHROM_5                           -0.001933  0.000534 -0.065886 -0.095132   \n",
       "CHROM_11                           0.043881  0.047204 -0.076743 -0.110809   \n",
       "CHROM_17                           0.013041  0.012929 -0.081337 -0.117441   \n",
       "REF_A                             -0.139935 -0.125550 -0.018791  0.009397   \n",
       "REF_C                              0.166312  0.130640  0.012841 -0.003046   \n",
       "REF_G                              0.023686  0.038259  0.006412 -0.013088   \n",
       "REF_T                             -0.147904 -0.129229 -0.003924  0.022848   \n",
       "ALT_A                              0.067779  0.074191  0.007426 -0.013449   \n",
       "ALT_C                             -0.150129 -0.131645 -0.001742  0.009793   \n",
       "ALT_G                             -0.111181 -0.107058 -0.022122  0.012520   \n",
       "ALT_T                              0.143910  0.119086  0.013182 -0.005322   \n",
       "CLNDISDB_MedGen:CN169374          -0.090316 -0.086369  0.020139  0.014228   \n",
       "CLNDN_not_specified               -0.090316 -0.086369  0.020139  0.014228   \n",
       "CLNVC_single_nucleotide_variant   -0.060210 -0.054330  0.004341  0.014317   \n",
       "MC_SO:0001583|missense_variant     0.281877  0.208015 -0.017147  0.031349   \n",
       "MC_SO:0001627|intron_variant      -0.289163 -0.243923  0.015639 -0.028737   \n",
       "Allele_A                           0.063055  0.070973  0.007160 -0.011292   \n",
       "Allele_C                          -0.166418 -0.146230 -0.001187  0.014122   \n",
       "Allele_G                          -0.113621 -0.109007 -0.021083  0.012929   \n",
       "Allele_T                           0.139637  0.115297  0.012936 -0.004231   \n",
       "Consequence_missense_variant       0.351695  0.262472 -0.005649  0.038108   \n",
       "IMPACT_HIGH                        0.376313  0.470595 -0.007176 -0.020912   \n",
       "IMPACT_LOW                        -0.447707 -0.422492  0.007269 -0.015183   \n",
       "IMPACT_MODERATE                    0.366433  0.269884 -0.007203  0.036511   \n",
       "IMPACT_MODIFIER                   -0.250787 -0.208329  0.007302 -0.020248   \n",
       "\n",
       "                                  CHROM_5  CHROM_11       ...         \\\n",
       "POS                              0.109581 -0.006367       ...          \n",
       "ORIGIN                          -0.000823 -0.006612       ...          \n",
       "STRAND                           0.117946  0.083352       ...          \n",
       "LoFtool                          0.015560  0.121785       ...          \n",
       "CADD_PHRED                      -0.001933  0.043881       ...          \n",
       "CADD_RAW                         0.000534  0.047204       ...          \n",
       "CHROM_1                         -0.065886 -0.076743       ...          \n",
       "CHROM_2                         -0.095132 -0.110809       ...          \n",
       "CHROM_5                          1.000000 -0.068947       ...          \n",
       "CHROM_11                        -0.068947  1.000000       ...          \n",
       "CHROM_17                        -0.073073 -0.085115       ...          \n",
       "REF_A                            0.047899  0.019456       ...          \n",
       "REF_C                           -0.018144 -0.011086       ...          \n",
       "REF_G                           -0.025718 -0.011207       ...          \n",
       "REF_T                            0.008074 -0.002053       ...          \n",
       "ALT_A                           -0.018794 -0.012647       ...          \n",
       "ALT_C                           -0.001353  0.005288       ...          \n",
       "ALT_G                            0.043140  0.017194       ...          \n",
       "ALT_T                           -0.013616 -0.009985       ...          \n",
       "CLNDISDB_MedGen:CN169374        -0.008678 -0.028621       ...          \n",
       "CLNDN_not_specified             -0.008678 -0.028621       ...          \n",
       "CLNVC_single_nucleotide_variant  0.000377 -0.026252       ...          \n",
       "MC_SO:0001583|missense_variant   0.033218  0.011094       ...          \n",
       "MC_SO:0001627|intron_variant    -0.020896 -0.005134       ...          \n",
       "Allele_A                        -0.019389 -0.014104       ...          \n",
       "Allele_C                        -0.000967  0.000164       ...          \n",
       "Allele_G                         0.042566  0.017053       ...          \n",
       "Allele_T                        -0.015235 -0.009525       ...          \n",
       "Consequence_missense_variant     0.011463 -0.010358       ...          \n",
       "IMPACT_HIGH                      0.004223  0.059553       ...          \n",
       "IMPACT_LOW                      -0.000490 -0.020470       ...          \n",
       "IMPACT_MODERATE                  0.011217 -0.008884       ...          \n",
       "IMPACT_MODIFIER                 -0.023139 -0.005007       ...          \n",
       "\n",
       "                                 MC_SO:0001627|intron_variant  Allele_A  \\\n",
       "POS                                                 -0.004403  0.000109   \n",
       "ORIGIN                                              -0.012429  0.005893   \n",
       "STRAND                                              -0.002026 -0.038894   \n",
       "LoFtool                                             -0.018733 -0.029711   \n",
       "CADD_PHRED                                          -0.289163  0.063055   \n",
       "CADD_RAW                                            -0.243923  0.070973   \n",
       "CHROM_1                                              0.015639  0.007160   \n",
       "CHROM_2                                             -0.028737 -0.011292   \n",
       "CHROM_5                                             -0.020896 -0.019389   \n",
       "CHROM_11                                            -0.005134 -0.014104   \n",
       "CHROM_17                                             0.005155 -0.009609   \n",
       "REF_A                                                0.017176 -0.278573   \n",
       "REF_C                                               -0.036336 -0.295403   \n",
       "REF_G                                               -0.034630  0.682969   \n",
       "REF_T                                                0.035914 -0.152598   \n",
       "ALT_A                                               -0.026992  0.968190   \n",
       "ALT_C                                                0.025504 -0.304537   \n",
       "ALT_G                                                0.021112 -0.310225   \n",
       "ALT_T                                               -0.031116 -0.445898   \n",
       "CLNDISDB_MedGen:CN169374                             0.111829 -0.000629   \n",
       "CLNDN_not_specified                                  0.111829 -0.000629   \n",
       "CLNVC_single_nucleotide_variant                     -0.099950  0.132200   \n",
       "MC_SO:0001583|missense_variant                      -0.267217 -0.013278   \n",
       "MC_SO:0001627|intron_variant                         1.000000 -0.029147   \n",
       "Allele_A                                            -0.029147  1.000000   \n",
       "Allele_C                                             0.020332 -0.293685   \n",
       "Allele_G                                             0.012103 -0.304020   \n",
       "Allele_T                                            -0.035320 -0.439263   \n",
       "Consequence_missense_variant                        -0.348666 -0.008659   \n",
       "IMPACT_HIGH                                         -0.093798 -0.024169   \n",
       "IMPACT_LOW                                           0.085153  0.050329   \n",
       "IMPACT_MODERATE                                     -0.361405 -0.025003   \n",
       "IMPACT_MODIFIER                                      0.589508 -0.017579   \n",
       "\n",
       "                                 Allele_C  Allele_G  Allele_T  \\\n",
       "POS                              0.009060 -0.001598  0.003403   \n",
       "ORIGIN                          -0.008518 -0.004381 -0.002587   \n",
       "STRAND                          -0.041034  0.076873  0.009328   \n",
       "LoFtool                          0.039009  0.017905 -0.013260   \n",
       "CADD_PHRED                      -0.166418 -0.113621  0.139637   \n",
       "CADD_RAW                        -0.146230 -0.109007  0.115297   \n",
       "CHROM_1                         -0.001187 -0.021083  0.012936   \n",
       "CHROM_2                          0.014122  0.012929 -0.004231   \n",
       "CHROM_5                         -0.000967  0.042566 -0.015235   \n",
       "CHROM_11                         0.000164  0.017053 -0.009525   \n",
       "CHROM_17                         0.027534 -0.000740 -0.016322   \n",
       "REF_A                           -0.008791  0.587959 -0.164275   \n",
       "REF_C                           -0.315161 -0.074736  0.677756   \n",
       "REF_G                           -0.073262 -0.321352 -0.291857   \n",
       "REF_T                            0.582153 -0.014944 -0.273352   \n",
       "ALT_A                           -0.298006 -0.308493 -0.445726   \n",
       "ALT_C                            0.953931 -0.212236 -0.306649   \n",
       "ALT_G                           -0.208850  0.969924 -0.312375   \n",
       "ALT_T                           -0.300188 -0.310752  0.970628   \n",
       "CLNDISDB_MedGen:CN169374         0.002535 -0.006228  0.010208   \n",
       "CLNDN_not_specified              0.002535 -0.006228  0.010208   \n",
       "CLNVC_single_nucleotide_variant  0.093995  0.098529  0.138074   \n",
       "MC_SO:0001583|missense_variant   0.030828  0.063529  0.008090   \n",
       "MC_SO:0001627|intron_variant     0.020332  0.012103 -0.035320   \n",
       "Allele_A                        -0.293685 -0.304020 -0.439263   \n",
       "Allele_C                         1.000000 -0.204673 -0.295721   \n",
       "Allele_G                        -0.204673  1.000000 -0.306128   \n",
       "Allele_T                        -0.295721 -0.306128  1.000000   \n",
       "Consequence_missense_variant     0.051132  0.066565  0.008400   \n",
       "IMPACT_HIGH                     -0.070006 -0.076095 -0.027678   \n",
       "IMPACT_LOW                      -0.017249 -0.021332  0.037167   \n",
       "IMPACT_MODERATE                  0.042277  0.056105 -0.007122   \n",
       "IMPACT_MODIFIER                  0.018539  0.006363 -0.024113   \n",
       "\n",
       "                                 Consequence_missense_variant  IMPACT_HIGH  \\\n",
       "POS                                                  0.005505    -0.031125   \n",
       "ORIGIN                                               0.008358     0.044327   \n",
       "STRAND                                              -0.000550    -0.000787   \n",
       "LoFtool                                              0.029406    -0.004316   \n",
       "CADD_PHRED                                           0.351695     0.376313   \n",
       "CADD_RAW                                             0.262472     0.470595   \n",
       "CHROM_1                                             -0.005649    -0.007176   \n",
       "CHROM_2                                              0.038108    -0.020912   \n",
       "CHROM_5                                              0.011463     0.004223   \n",
       "CHROM_11                                            -0.010358     0.059553   \n",
       "CHROM_17                                             0.013835     0.022232   \n",
       "REF_A                                                0.046655    -0.059272   \n",
       "REF_C                                                0.023462    -0.038900   \n",
       "REF_G                                                0.006824    -0.035849   \n",
       "REF_T                                                0.017436    -0.045607   \n",
       "ALT_A                                               -0.021578     0.000526   \n",
       "ALT_C                                                0.023908    -0.016626   \n",
       "ALT_G                                                0.050888    -0.053652   \n",
       "ALT_T                                               -0.004995    -0.010021   \n",
       "CLNDISDB_MedGen:CN169374                            -0.048313    -0.076266   \n",
       "CLNDN_not_specified                                 -0.048313    -0.076266   \n",
       "CLNVC_single_nucleotide_variant                      0.227704    -0.425647   \n",
       "MC_SO:0001583|missense_variant                       0.713036    -0.197650   \n",
       "MC_SO:0001627|intron_variant                        -0.348666    -0.093798   \n",
       "Allele_A                                            -0.008659    -0.024169   \n",
       "Allele_C                                             0.051132    -0.070006   \n",
       "Allele_G                                             0.066565    -0.076095   \n",
       "Allele_T                                             0.008400    -0.027678   \n",
       "Consequence_missense_variant                         1.000000    -0.270683   \n",
       "IMPACT_HIGH                                         -0.270683     1.000000   \n",
       "IMPACT_LOW                                          -0.680527    -0.197681   \n",
       "IMPACT_MODERATE                                      0.947186    -0.285776   \n",
       "IMPACT_MODIFIER                                     -0.295407    -0.085810   \n",
       "\n",
       "                                 IMPACT_LOW  IMPACT_MODERATE  IMPACT_MODIFIER  \n",
       "POS                                0.021021         0.000822        -0.007929  \n",
       "ORIGIN                            -0.028777         0.010887        -0.012201  \n",
       "STRAND                             0.002695         0.000314        -0.004366  \n",
       "LoFtool                           -0.009589         0.026423        -0.027059  \n",
       "CADD_PHRED                        -0.447707         0.366433        -0.250787  \n",
       "CADD_RAW                          -0.422492         0.269884        -0.208329  \n",
       "CHROM_1                            0.007269        -0.007203         0.007302  \n",
       "CHROM_2                           -0.015183         0.036511        -0.020248  \n",
       "CHROM_5                           -0.000490         0.011217        -0.023139  \n",
       "CHROM_11                          -0.020470        -0.008884        -0.005007  \n",
       "CHROM_17                          -0.029651         0.016024         0.000620  \n",
       "REF_A                             -0.014781         0.040378         0.007805  \n",
       "REF_C                              0.025768         0.009259        -0.023769  \n",
       "REF_G                              0.034373        -0.004315        -0.016834  \n",
       "REF_T                             -0.002753         0.011711         0.026083  \n",
       "ALT_A                              0.040083        -0.028601        -0.016850  \n",
       "ALT_C                             -0.032670         0.026643         0.022830  \n",
       "ALT_G                             -0.028659         0.049386         0.009847  \n",
       "ALT_T                              0.031563        -0.010454        -0.025134  \n",
       "CLNDISDB_MedGen:CN169374           0.011022        -0.048396         0.138769  \n",
       "CLNDN_not_specified                0.011022        -0.048396         0.138769  \n",
       "CLNVC_single_nucleotide_variant    0.126268         0.136975        -0.061770  \n",
       "MC_SO:0001583|missense_variant    -0.519487         0.717232        -0.223459  \n",
       "MC_SO:0001627|intron_variant       0.085153        -0.361405         0.589508  \n",
       "Allele_A                           0.050329        -0.025003        -0.017579  \n",
       "Allele_C                          -0.017249         0.042277         0.018539  \n",
       "Allele_G                          -0.021332         0.056105         0.006363  \n",
       "Allele_T                           0.037167        -0.007122        -0.024113  \n",
       "Consequence_missense_variant      -0.680527         0.947186        -0.295407  \n",
       "IMPACT_HIGH                       -0.197681        -0.285776        -0.085810  \n",
       "IMPACT_LOW                         1.000000        -0.718472        -0.215737  \n",
       "IMPACT_MODERATE                   -0.718472         1.000000        -0.311878  \n",
       "IMPACT_MODIFIER                   -0.215737        -0.311878         1.000000  \n",
       "\n",
       "[33 rows x 33 columns]"
      ]
     },
     "metadata": {},
     "output_type": "display_data"
    }
   ],
   "source": [
    "correlation_matrix = X.corr()\n",
    "display(correlation_matrix)"
   ]
  },
  {
   "cell_type": "code",
   "execution_count": 125,
   "metadata": {},
   "outputs": [
    {
     "name": "stdout",
     "output_type": "stream",
     "text": [
      "Number of correlated features to drop: 7\n"
     ]
    }
   ],
   "source": [
    "# Correlated features to be dropped\n",
    "upper = correlation_matrix.where(np.triu(np.ones(correlation_matrix.shape), k=1).astype(np.bool))\n",
    "to_drop = [column for column in upper.columns if any(upper[column] > 0.90)]\n",
    "print(f'Number of correlated features to drop: {len(to_drop)}')"
   ]
  },
  {
   "cell_type": "code",
   "execution_count": 126,
   "metadata": {
    "collapsed": true
   },
   "outputs": [],
   "source": [
    "cols = list(X.columns)\n",
    "\n",
    "for col in to_drop: \n",
    "    cols.remove(col)\n",
    "\n",
    "len(cols)\n",
    "\n",
    "X = X[cols]"
   ]
  },
  {
   "cell_type": "markdown",
   "metadata": {},
   "source": [
    "Here we are dropping highly correlated features."
   ]
  },
  {
   "cell_type": "code",
   "execution_count": 127,
   "metadata": {
    "collapsed": true
   },
   "outputs": [],
   "source": [
    "# Save the DF for future reference\n",
    "X.to_csv('./data/X_df_v2.csv')"
   ]
  },
  {
   "cell_type": "markdown",
   "metadata": {},
   "source": [
    "## Train / Test splits"
   ]
  },
  {
   "cell_type": "code",
   "execution_count": 128,
   "metadata": {},
   "outputs": [],
   "source": [
    "# Train splits\n",
    "X_train, X_temp, y_train, y_temp = train_test_split(X, Y, test_size=0.40, random_state=42, stratify=Y)\n",
    "\n",
    "# Dev and Test splits\n",
    "X_dev, X_test, y_dev, y_test = train_test_split(X_temp, y_temp, test_size=0.50, random_state=42, stratify=y_temp)"
   ]
  },
  {
   "cell_type": "markdown",
   "metadata": {},
   "source": [
    "We are splitting the data into a train, test and dev set."
   ]
  },
  {
   "cell_type": "markdown",
   "metadata": {},
   "source": [
    "## Logistic Regression"
   ]
  },
  {
   "cell_type": "code",
   "execution_count": 179,
   "metadata": {},
   "outputs": [
    {
     "name": "stdout",
     "output_type": "stream",
     "text": [
      "roc_auc_score Train: 0.4988218485572249\n",
      "roc_auc_score Dev: 0.49571504168427244\n"
     ]
    }
   ],
   "source": [
    "# Define the LR model\n",
    "lr = LogisticRegression()\n",
    "lr_fit = lr.fit(X_train, y_train)\n",
    "\n",
    "# Train\n",
    "lr_preds_train = lr_fit.predict_proba(X_train)\n",
    "lr_y_score_train = lr_preds_train[:, 1]\n",
    "lr_roc_train = roc_auc_score(y_train, lr_y_score_train)\n",
    "\n",
    "# Dev\n",
    "lr_preds_dev = lr_fit.predict_proba(X_dev)\n",
    "lr_y_score_dev = lr_preds_dev[:, 1]\n",
    "lr_roc_dev = roc_auc_score(y_dev, lr_y_score_dev)\n",
    "\n",
    "print(f'roc_auc_score Train: {lr_roc_train}')\n",
    "print(f'roc_auc_score Dev: {lr_roc_dev}')"
   ]
  },
  {
   "cell_type": "markdown",
   "metadata": {},
   "source": [
    "## Logistic Regression Grid Search"
   ]
  },
  {
   "cell_type": "code",
   "execution_count": 191,
   "metadata": {},
   "outputs": [
    {
     "name": "stdout",
     "output_type": "stream",
     "text": [
      "                 precision    recall  f1-score   support\n",
      "\n",
      "Non-Conflicting       0.75      1.00      0.86      9751\n",
      "    Conflicting       0.00      0.00      0.00      3287\n",
      "\n",
      "    avg / total       0.56      0.75      0.64     13038\n",
      "\n",
      "roc_auc_score Dev: 0.49571504168427244\n",
      "Best Score: 0.7479034567396196\n",
      "Best Parameters: {'C': 1.0, 'penalty': 'l2'}\n"
     ]
    },
    {
     "name": "stderr",
     "output_type": "stream",
     "text": [
      "/Users/rook/anaconda3/lib/python3.6/site-packages/sklearn/metrics/classification.py:1135: UndefinedMetricWarning: Precision and F-score are ill-defined and being set to 0.0 in labels with no predicted samples.\n",
      "  'precision', 'predicted', average, warn_for)\n"
     ]
    },
    {
     "data": {
      "image/png": "[encoded data removed]",
      "text/plain": [
       "<matplotlib.figure.Figure at 0x1a36b92048>"
      ]
     },
     "metadata": {},
     "output_type": "display_data"
    }
   ],
   "source": [
    "lr_gs = LogisticRegression()\n",
    "\n",
    "# Create regularization penalty space\n",
    "penalty = ['l1', 'l2']\n",
    "\n",
    "# Create regularization hyperparameter space\n",
    "C = np.logspace(0, 4, 10)\n",
    "\n",
    "# Create hyperparameter options\n",
    "hyperparameters = dict(C=C, penalty=penalty)\n",
    "\n",
    "\n",
    "grid_log_r = GridSearchCV(lr_gs, param_grid=hyperparameters, refit='recall_score', cv=5, n_jobs=-1)\n",
    "grid_log_r.fit(X_train, y_train)\n",
    "\n",
    "\n",
    "\n",
    "\n",
    "lr_preds_dev = grid_log_r.predict_proba(X_dev)\n",
    "lr_y_score_dev = lr_preds_dev[:, 1]\n",
    "lr_roc_dev = roc_auc_score(y_dev, lr_y_score_dev)\n",
    "\n",
    "\n",
    "\n",
    "conf_matrix_lr_dev = confusion_matrix(y_dev, np.argmax(lr_preds_dev, axis=1))\n",
    "\n",
    "df_cm = pd.DataFrame(conf_matrix_lr_dev, index = [i for i in ['Non-Conflicting', 'Conflicting']],\n",
    "                  columns = ['Non-Conflicting', 'Conflicting'])\n",
    "\n",
    "plt.figure(figsize = (10,7))\n",
    "sns.heatmap(df_cm, annot=True)\n",
    "\n",
    "print(classification_report(y_dev, np.argmax(lr_preds_dev, axis=1), target_names=['Non-Conflicting', 'Conflicting']))\n",
    "print(f'roc_auc_score Dev: {lr_roc_dev}')\n",
    "print('Best Score:', grid_log_r.best_score_)\n",
    "\n",
    "# Best parameters from the grid search\n",
    "best_params = grid_log_r.best_params_\n",
    "print('Best Parameters:', best_params)"
   ]
  },
  {
   "cell_type": "code",
   "execution_count": 185,
   "metadata": {},
   "outputs": [
    {
     "name": "stdout",
     "output_type": "stream",
     "text": [
      "roc_auc_score Train: 0.4988218485572249\n",
      "roc_auc_score Dev: 0.49571504168427244\n"
     ]
    }
   ],
   "source": [
    "# Create a model with the best params\n",
    "lr_2 = LogisticRegression(**best_params)\n",
    "\n",
    "# Fit the model\n",
    "lr_2_fit = lr_2.fit(X_train, y_train)\n",
    "\n",
    "lr_preds_train = lr_2_fit.predict_proba(X_train)\n",
    "lr_y_score_train = lr_preds_train[:, 1]\n",
    "lr_roc_train = roc_auc_score(y_train, lr_y_score_train)\n",
    "\n",
    "lr_preds_dev = lr_2_fit.predict_proba(X_dev)\n",
    "lr_y_score_dev = lr_preds_dev[:, 1]\n",
    "lr_roc_dev = roc_auc_score(y_dev, lr_y_score_dev)\n",
    "\n",
    "print(f'roc_auc_score Train: {lr_roc_train}')\n",
    "print(f'roc_auc_score Dev: {lr_roc_dev}')"
   ]
  },
  {
   "cell_type": "markdown",
   "metadata": {},
   "source": [
    "### Precision and Recall"
   ]
  },
  {
   "cell_type": "code",
   "execution_count": 183,
   "metadata": {},
   "outputs": [
    {
     "data": {
      "text/plain": [
       "array([[9751,    0],\n",
       "       [3287,    0]])"
      ]
     },
     "execution_count": 183,
     "metadata": {},
     "output_type": "execute_result"
    }
   ],
   "source": [
    "y_pred_lr = np.argmax(lr_preds_dev, axis=1)\n",
    "conf_matrix_lr_dev = confusion_matrix(y_dev, y_pred_lr)\n",
    "conf_matrix_lr_dev"
   ]
  },
  {
   "cell_type": "code",
   "execution_count": 171,
   "metadata": {},
   "outputs": [
    {
     "data": {
      "text/plain": [
       "<matplotlib.axes._subplots.AxesSubplot at 0x1a4aaf3898>"
      ]
     },
     "execution_count": 171,
     "metadata": {},
     "output_type": "execute_result"
    },
    {
     "data": {
      "image/png": "[encoded data removed]",
      "text/plain": [
       "<matplotlib.figure.Figure at 0x1a4ad807b8>"
      ]
     },
     "metadata": {},
     "output_type": "display_data"
    }
   ],
   "source": [
    "df_cm = pd.DataFrame(conf_matrix_lr_dev, index = [i for i in ['Non-Conflicting', 'Conflicting']],\n",
    "                  columns = ['Non-Conflicting', 'Conflicting'])\n",
    "\n",
    "plt.figure(figsize = (10,7))\n",
    "sns.heatmap(df_cm, annot=True)"
   ]
  },
  {
   "cell_type": "code",
   "execution_count": 174,
   "metadata": {},
   "outputs": [
    {
     "name": "stdout",
     "output_type": "stream",
     "text": [
      "                 precision    recall  f1-score   support\n",
      "\n",
      "    Conflicting       0.75      1.00      0.86      9751\n",
      "Non-Conflicting       0.00      0.00      0.00      3287\n",
      "\n",
      "    avg / total       0.56      0.75      0.64     13038\n",
      "\n"
     ]
    },
    {
     "name": "stderr",
     "output_type": "stream",
     "text": [
      "/Users/rook/anaconda3/lib/python3.6/site-packages/sklearn/metrics/classification.py:1135: UndefinedMetricWarning: Precision and F-score are ill-defined and being set to 0.0 in labels with no predicted samples.\n",
      "  'precision', 'predicted', average, warn_for)\n"
     ]
    }
   ],
   "source": [
    "print(classification_report(y_dev, np.argmax(lr_preds_dev, axis=1), target_names=['Conflicting', 'Non-Conflicting']))"
   ]
  },
  {
   "cell_type": "markdown",
   "metadata": {},
   "source": [
    "## Random Forest"
   ]
  },
  {
   "cell_type": "code",
   "execution_count": 133,
   "metadata": {
    "collapsed": true
   },
   "outputs": [],
   "source": [
    "rfc = ensemble.RandomForestClassifier(n_estimators=200, n_jobs=-1)"
   ]
  },
  {
   "cell_type": "markdown",
   "metadata": {},
   "source": [
    "## Evaluation"
   ]
  },
  {
   "cell_type": "code",
   "execution_count": 172,
   "metadata": {
    "scrolled": true
   },
   "outputs": [
    {
     "name": "stdout",
     "output_type": "stream",
     "text": [
      "roc_auc_score Train: 1.0\n",
      "roc_auc_score Dev: 0.6329854789803061\n"
     ]
    }
   ],
   "source": [
    "rfc_1 = rfc.fit(X_train, y_train)\n",
    "\n",
    "# Train\n",
    "rfc_preds = rfc_1.predict_proba(X_train)\n",
    "rfc_y_score = rfc_preds[:, 1]\n",
    "rfc_roc_train = roc_auc_score(y_train, rfc_y_score)\n",
    "\n",
    "# Dev\n",
    "rfc_preds = rfc_1.predict_proba(X_dev)\n",
    "rfc_y_score = rfc_preds[:, 1]\n",
    "rfc_roc_dev = roc_auc_score(y_dev, rfc_y_score)\n",
    "\n",
    "print(f'roc_auc_score Train: {rfc_roc_train}')\n",
    "print(f'roc_auc_score Dev: {rfc_roc_dev}')"
   ]
  },
  {
   "cell_type": "markdown",
   "metadata": {},
   "source": [
    "## Random Forest Grid Search"
   ]
  },
  {
   "cell_type": "code",
   "execution_count": 135,
   "metadata": {},
   "outputs": [
    {
     "name": "stdout",
     "output_type": "stream",
     "text": [
      "Best Score: 0.7483636735528738\n",
      "Best Parameters: {'max_depth': 8, 'max_features': 'sqrt', 'min_samples_split': 2, 'n_estimators': 100}\n"
     ]
    }
   ],
   "source": [
    "parameters = {'n_estimators':[100,300,500],\n",
    "             'max_features':['sqrt', 'log2'],\n",
    "             'min_samples_split':[2,8,20],\n",
    "             'max_depth':[5,6,7,8]}\n",
    "\n",
    "# Instantiating and fitting Grid Search, then printing best score and best parameters\n",
    "grid_rfc = GridSearchCV(rfc, param_grid=parameters, cv=5, n_jobs=2)\n",
    "grid_rfc.fit(X_train, y_train)\n",
    "\n",
    "# ADD the ROC and conf matrix code here\n",
    "\n",
    "print('Best Score:', grid_rfc.best_score_)\n",
    "best_params_rfc = grid_rfc.best_params_\n",
    "print('Best Parameters:', best_params_rfc)"
   ]
  },
  {
   "cell_type": "code",
   "execution_count": 176,
   "metadata": {
    "scrolled": true
   },
   "outputs": [
    {
     "name": "stdout",
     "output_type": "stream",
     "text": [
      "roc_auc_score Train: 0.7051569868907214\n",
      "roc_auc_score Dev: 0.642905689670982\n"
     ]
    }
   ],
   "source": [
    "rfc_2 = ensemble.RandomForestClassifier(**best_params_rfc, n_jobs=-1)\n",
    "# Fit the model\n",
    "rfc_2.fit(X_train, y_train)\n",
    "\n",
    "# Train\n",
    "rfc_preds_train = rfc_2.predict_proba(X_train)\n",
    "rfc_y_score_train = rfc_preds_train[:, 1]\n",
    "rfc2_roc_train = roc_auc_score(y_train, rfc_y_score_train)\n",
    "\n",
    "# Dev\n",
    "rfc_preds_dev = rfc_2.predict_proba(X_dev)\n",
    "rfc_y_score_dev = rfc_preds_dev[:, 1]\n",
    "rfc2_roc_dev = roc_auc_score(y_dev, rfc_y_score_dev)\n",
    "\n",
    "print(f'roc_auc_score Train: {rfc2_roc_train}')\n",
    "print(f'roc_auc_score Dev: {rfc2_roc_dev}')"
   ]
  },
  {
   "cell_type": "markdown",
   "metadata": {},
   "source": [
    "The Random Forest model and the Logistic Regression model are very similar in their accuracy results."
   ]
  },
  {
   "cell_type": "markdown",
   "metadata": {},
   "source": [
    "### Precision and Recall"
   ]
  },
  {
   "cell_type": "code",
   "execution_count": 177,
   "metadata": {
    "scrolled": true
   },
   "outputs": [
    {
     "data": {
      "text/plain": [
       "array([[9751,    0],\n",
       "       [3280,    7]])"
      ]
     },
     "execution_count": 177,
     "metadata": {},
     "output_type": "execute_result"
    }
   ],
   "source": [
    "y_pred_rf = np.argmax(rfc_preds_dev, axis=1)\n",
    "conf_matrix_rf_dev = confusion_matrix(y_dev, y_pred_rf)\n",
    "conf_matrix_rf_dev"
   ]
  },
  {
   "cell_type": "code",
   "execution_count": 148,
   "metadata": {
    "collapsed": true
   },
   "outputs": [],
   "source": [
    "df_cm = pd.DataFrame(conf_matrix_rf_dev, index = [i for i in ['Non-Conflicting', 'Conflicting']],\n",
    "                  columns = ['Non-Conflicting', 'Conflicting'])"
   ]
  },
  {
   "cell_type": "code",
   "execution_count": 149,
   "metadata": {
    "scrolled": false
   },
   "outputs": [
    {
     "data": {
      "text/plain": [
       "<matplotlib.axes._subplots.AxesSubplot at 0x1a4ae7aa58>"
      ]
     },
     "execution_count": 149,
     "metadata": {},
     "output_type": "execute_result"
    },
    {
     "data": {
      "image/png": "[encoded data removed]",
      "text/plain": [
       "<matplotlib.figure.Figure at 0x1a4ae60278>"
      ]
     },
     "metadata": {},
     "output_type": "display_data"
    }
   ],
   "source": [
    "plt.figure(figsize = (10,7))\n",
    "sns.heatmap(df_cm, annot=True)"
   ]
  },
  {
   "cell_type": "code",
   "execution_count": 178,
   "metadata": {},
   "outputs": [
    {
     "name": "stdout",
     "output_type": "stream",
     "text": [
      "                 precision    recall  f1-score   support\n",
      "\n",
      "    Conflicting       0.75      1.00      0.86      9751\n",
      "Non-Conflicting       1.00      0.00      0.00      3287\n",
      "\n",
      "    avg / total       0.81      0.75      0.64     13038\n",
      "\n"
     ]
    }
   ],
   "source": [
    "print(classification_report(y_dev, y_pred_rf, target_names=['Conflicting', 'Non-Conflicting']))"
   ]
  },
  {
   "cell_type": "markdown",
   "metadata": {},
   "source": [
    "## Gradient Boosting"
   ]
  },
  {
   "cell_type": "code",
   "execution_count": 582,
   "metadata": {
    "scrolled": true
   },
   "outputs": [
    {
     "name": "stdout",
     "output_type": "stream",
     "text": [
      "[0.76671354 0.77540585 0.77000767 0.77358732 0.77435439]\n",
      "Average: 0.772 (+/- 0.00642)\n"
     ]
    }
   ],
   "source": [
    "# We'll make 500 iterations, use 2-deep trees, and set our loss function.\n",
    "params = {'n_estimators': 700,\n",
    "          'max_depth': 3,\n",
    "          'loss': 'deviance'}\n",
    "\n",
    "# Initialize and fit the model.\n",
    "gb_clf = ensemble.GradientBoostingClassifier(**params)\n",
    "gb_acc = cross_val_score(gb_clf, X_train, y_train, cv=5, n_jobs=-1)\n",
    "\n",
    "print(gb_acc)\n",
    "print(f'Average: {np.round(np.mean(gb_acc), 4)} (+/- {np.round(gb_acc.std()*2, 5)})')"
   ]
  },
  {
   "cell_type": "markdown",
   "metadata": {},
   "source": [
    "Gradient Boosting seems to perform slightly better than the Random Forest model"
   ]
  },
  {
   "cell_type": "markdown",
   "metadata": {},
   "source": [
    "## Gradient Boosting Grid Search"
   ]
  },
  {
   "cell_type": "code",
   "execution_count": 583,
   "metadata": {},
   "outputs": [
    {
     "name": "stdout",
     "output_type": "stream",
     "text": [
      "Best Score: 0.7810390672939251\n",
      "Best Parameters: {'loss': 'deviance', 'max_depth': 8, 'max_features': 'sqrt', 'min_samples_split': 10, 'n_estimators': 600}\n"
     ]
    }
   ],
   "source": [
    "parameters = {\n",
    "            'loss':['deviance', 'exponential'],\n",
    "            'min_samples_split':[2, 5, 10],\n",
    "            'max_depth':[5,6,7,8],\n",
    "            'max_features':['sqrt', 'log2'],\n",
    "            'n_estimators':[100,300,600]}\n",
    "\n",
    "#fitting model and printing best parameters and score from model\n",
    "grid_gb = GridSearchCV(gb_clf, param_grid=parameters, n_jobs=2)\n",
    "grid_gb.fit(X_train, y_train)\n",
    "\n",
    "print('Best Score:', grid_gb.best_score_)\n",
    "best_params_gb = grid_gb.best_params_\n",
    "print('Best Parameters:', best_params_gb)"
   ]
  },
  {
   "cell_type": "code",
   "execution_count": 585,
   "metadata": {},
   "outputs": [
    {
     "name": "stdout",
     "output_type": "stream",
     "text": [
      "Train Score: 0.8279556146451217\n",
      "Dev Score: 0.784706243288848\n",
      "Test Score: 0.7874674029759166\n"
     ]
    }
   ],
   "source": [
    "# We'll make 500 iterations, use 2-deep trees, and set our loss function.\n",
    "params = {'loss': 'deviance', 'max_depth': 8, 'max_features': 'sqrt', 'min_samples_split': 10, 'n_estimators': 600}\n",
    "\n",
    "# Initialize and fit the model.\n",
    "gb_clf_2 = ensemble.GradientBoostingClassifier(**params)\n",
    "gb_clf_2.fit(X_train, y_train)\n",
    "\n",
    "print(f'Train Score: {gb_clf_2.score(X_train, y_train)}')\n",
    "print(f'Dev Score: {gb_clf_2.score(X_dev, y_dev)}')\n",
    "print(f'Test Score: {gb_clf_2.score(X_test, y_test)}')"
   ]
  },
  {
   "cell_type": "markdown",
   "metadata": {},
   "source": [
    "Gradient Boosting is the most accurate models and seems to be much better in regards generalization."
   ]
  },
  {
   "cell_type": "markdown",
   "metadata": {},
   "source": [
    "## Conclusion\n",
    "\n",
    "While achieving an accuracy level of 78% using Gradient Boosting is not immediately impressive, I think applying machine learning to the field of genomics is a step in the right direction.  While I have no domain knowledge in this specific area, I imagine it would be beneficial to be able to predict with 78% accuracy, whether or not a genetic variation will result in conflicting classifications.  Given this additional knowledge, labs or clinicians could add additional levels of inspection to overcome the increased likelihood of a conflicting classification.\n",
    "\n",
    "## Challenges I faced\n",
    "\n",
    "The most challenging aspect of this problem was preprocessing the data.  \n",
    "\n",
    "* There were quite a few categorical variables that needed to be converted to a binary form.  \n",
    "\n",
    "* Some of the categorical variables also consisted of thousands of unique values.  \n",
    "\n",
    "* Every row consisted of NaN values, which meant imputing the data was a necessity.\n",
    "\n",
    "* I had no domain knowledge in the area, so feature engineering was not an option, which likely hindered my ability to improve the accuracy of my models"
   ]
  }
 ],
 "metadata": {
  "kernelspec": {
   "display_name": "Python 3",
   "language": "python",
   "name": "python3"
  },
  "language_info": {
   "codemirror_mode": {
    "name": "ipython",
    "version": 3
   },
   "file_extension": ".py",
   "mimetype": "text/x-python",
   "name": "python",
   "nbconvert_exporter": "python",
   "pygments_lexer": "ipython3",
   "version": "3.6.3"
  }
 },
 "nbformat": 4,
 "nbformat_minor": 2
}
